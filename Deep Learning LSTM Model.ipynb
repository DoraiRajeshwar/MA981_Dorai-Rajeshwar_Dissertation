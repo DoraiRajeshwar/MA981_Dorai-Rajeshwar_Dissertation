{
 "cells": [
  {
   "cell_type": "code",
   "execution_count": 128,
   "id": "8477ceb9",
   "metadata": {},
   "outputs": [],
   "source": [
    "import yfinance as yf\n",
    "import numpy as np\n",
    "import pandas as pd\n",
    "import tensorflow as tf\n",
    "import matplotlib.pyplot as plt"
   ]
  },
  {
   "cell_type": "code",
   "execution_count": 129,
   "id": "4bd39677",
   "metadata": {},
   "outputs": [
    {
     "name": "stdout",
     "output_type": "stream",
     "text": [
      "[*********************100%***********************]  1 of 1 completed\n"
     ]
    }
   ],
   "source": [
    "df_lstm= yf.download(\"AMZN\" , start = \"2021-01-01\" , interval = '1d')"
   ]
  },
  {
   "cell_type": "code",
   "execution_count": 130,
   "id": "9556a4e3",
   "metadata": {},
   "outputs": [
    {
     "data": {
      "text/plain": [
       "Open         0\n",
       "High         0\n",
       "Low          0\n",
       "Close        0\n",
       "Adj Close    0\n",
       "Volume       0\n",
       "dtype: int64"
      ]
     },
     "execution_count": 130,
     "metadata": {},
     "output_type": "execute_result"
    }
   ],
   "source": [
    "df_lstm.isnull().sum()"
   ]
  },
  {
   "cell_type": "code",
   "execution_count": 131,
   "id": "9850e397",
   "metadata": {},
   "outputs": [
    {
     "data": {
      "text/plain": [
       "Open         0\n",
       "High         0\n",
       "Low          0\n",
       "Close        0\n",
       "Adj Close    0\n",
       "Volume       0\n",
       "dtype: int64"
      ]
     },
     "execution_count": 131,
     "metadata": {},
     "output_type": "execute_result"
    }
   ],
   "source": [
    "df_lstm.isna().sum()"
   ]
  },
  {
   "cell_type": "code",
   "execution_count": 132,
   "id": "4cb406ee",
   "metadata": {},
   "outputs": [],
   "source": [
    "df_lstm.dropna(inplace=True)"
   ]
  },
  {
   "cell_type": "code",
   "execution_count": 133,
   "id": "e4d50170",
   "metadata": {},
   "outputs": [
    {
     "data": {
      "text/html": [
       "<div>\n",
       "<style scoped>\n",
       "    .dataframe tbody tr th:only-of-type {\n",
       "        vertical-align: middle;\n",
       "    }\n",
       "\n",
       "    .dataframe tbody tr th {\n",
       "        vertical-align: top;\n",
       "    }\n",
       "\n",
       "    .dataframe thead th {\n",
       "        text-align: right;\n",
       "    }\n",
       "</style>\n",
       "<table border=\"1\" class=\"dataframe\">\n",
       "  <thead>\n",
       "    <tr style=\"text-align: right;\">\n",
       "      <th></th>\n",
       "      <th>Open</th>\n",
       "      <th>High</th>\n",
       "      <th>Low</th>\n",
       "      <th>Close</th>\n",
       "      <th>Adj Close</th>\n",
       "      <th>Volume</th>\n",
       "    </tr>\n",
       "  </thead>\n",
       "  <tbody>\n",
       "    <tr>\n",
       "      <th>count</th>\n",
       "      <td>661.000000</td>\n",
       "      <td>661.000000</td>\n",
       "      <td>661.000000</td>\n",
       "      <td>661.000000</td>\n",
       "      <td>661.000000</td>\n",
       "      <td>6.610000e+02</td>\n",
       "    </tr>\n",
       "    <tr>\n",
       "      <th>mean</th>\n",
       "      <td>138.321986</td>\n",
       "      <td>140.126477</td>\n",
       "      <td>136.413437</td>\n",
       "      <td>138.239074</td>\n",
       "      <td>138.239074</td>\n",
       "      <td>6.990305e+07</td>\n",
       "    </tr>\n",
       "    <tr>\n",
       "      <th>std</th>\n",
       "      <td>29.193426</td>\n",
       "      <td>29.186731</td>\n",
       "      <td>29.153537</td>\n",
       "      <td>29.130119</td>\n",
       "      <td>29.130119</td>\n",
       "      <td>2.804089e+07</td>\n",
       "    </tr>\n",
       "    <tr>\n",
       "      <th>min</th>\n",
       "      <td>82.800003</td>\n",
       "      <td>83.480003</td>\n",
       "      <td>81.430000</td>\n",
       "      <td>81.820000</td>\n",
       "      <td>81.820000</td>\n",
       "      <td>2.826480e+07</td>\n",
       "    </tr>\n",
       "    <tr>\n",
       "      <th>25%</th>\n",
       "      <td>112.160004</td>\n",
       "      <td>114.080002</td>\n",
       "      <td>109.320000</td>\n",
       "      <td>112.209999</td>\n",
       "      <td>112.209999</td>\n",
       "      <td>5.211240e+07</td>\n",
       "    </tr>\n",
       "    <tr>\n",
       "      <th>50%</th>\n",
       "      <td>142.050003</td>\n",
       "      <td>144.243500</td>\n",
       "      <td>139.500000</td>\n",
       "      <td>142.100006</td>\n",
       "      <td>142.100006</td>\n",
       "      <td>6.298400e+07</td>\n",
       "    </tr>\n",
       "    <tr>\n",
       "      <th>75%</th>\n",
       "      <td>165.001007</td>\n",
       "      <td>166.392502</td>\n",
       "      <td>163.606506</td>\n",
       "      <td>164.949493</td>\n",
       "      <td>164.949493</td>\n",
       "      <td>7.830800e+07</td>\n",
       "    </tr>\n",
       "    <tr>\n",
       "      <th>max</th>\n",
       "      <td>187.199997</td>\n",
       "      <td>188.654007</td>\n",
       "      <td>184.839493</td>\n",
       "      <td>186.570496</td>\n",
       "      <td>186.570496</td>\n",
       "      <td>2.726620e+08</td>\n",
       "    </tr>\n",
       "  </tbody>\n",
       "</table>\n",
       "</div>"
      ],
      "text/plain": [
       "             Open        High         Low       Close   Adj Close  \\\n",
       "count  661.000000  661.000000  661.000000  661.000000  661.000000   \n",
       "mean   138.321986  140.126477  136.413437  138.239074  138.239074   \n",
       "std     29.193426   29.186731   29.153537   29.130119   29.130119   \n",
       "min     82.800003   83.480003   81.430000   81.820000   81.820000   \n",
       "25%    112.160004  114.080002  109.320000  112.209999  112.209999   \n",
       "50%    142.050003  144.243500  139.500000  142.100006  142.100006   \n",
       "75%    165.001007  166.392502  163.606506  164.949493  164.949493   \n",
       "max    187.199997  188.654007  184.839493  186.570496  186.570496   \n",
       "\n",
       "             Volume  \n",
       "count  6.610000e+02  \n",
       "mean   6.990305e+07  \n",
       "std    2.804089e+07  \n",
       "min    2.826480e+07  \n",
       "25%    5.211240e+07  \n",
       "50%    6.298400e+07  \n",
       "75%    7.830800e+07  \n",
       "max    2.726620e+08  "
      ]
     },
     "execution_count": 133,
     "metadata": {},
     "output_type": "execute_result"
    }
   ],
   "source": [
    "df_lstm.describe()"
   ]
  },
  {
   "cell_type": "code",
   "execution_count": 134,
   "id": "cdb606c8",
   "metadata": {},
   "outputs": [],
   "source": [
    "df_lstm = df_lstm.asfreq(\"d\")"
   ]
  },
  {
   "cell_type": "code",
   "execution_count": 135,
   "id": "d44d18cd",
   "metadata": {},
   "outputs": [
    {
     "data": {
      "text/plain": [
       "Open         296\n",
       "High         296\n",
       "Low          296\n",
       "Close        296\n",
       "Adj Close    296\n",
       "Volume       296\n",
       "dtype: int64"
      ]
     },
     "execution_count": 135,
     "metadata": {},
     "output_type": "execute_result"
    }
   ],
   "source": [
    "df_lstm.isnull().sum()"
   ]
  },
  {
   "cell_type": "code",
   "execution_count": 136,
   "id": "31ba43ae",
   "metadata": {},
   "outputs": [],
   "source": [
    "df_lstm = df_lstm.fillna(method  = \"bfill\")"
   ]
  },
  {
   "cell_type": "code",
   "execution_count": 137,
   "id": "654f0c3a",
   "metadata": {},
   "outputs": [],
   "source": [
    "from sklearn.preprocessing import MinMaxScaler\n",
    "from sklearn.manifold import MDS\n",
    "from tqdm.notebook import tnrange"
   ]
  },
  {
   "cell_type": "code",
   "execution_count": 138,
   "id": "9f81a670",
   "metadata": {},
   "outputs": [
    {
     "data": {
      "text/html": [
       "<div>\n",
       "<style scoped>\n",
       "    .dataframe tbody tr th:only-of-type {\n",
       "        vertical-align: middle;\n",
       "    }\n",
       "\n",
       "    .dataframe tbody tr th {\n",
       "        vertical-align: top;\n",
       "    }\n",
       "\n",
       "    .dataframe thead th {\n",
       "        text-align: right;\n",
       "    }\n",
       "</style>\n",
       "<table border=\"1\" class=\"dataframe\">\n",
       "  <thead>\n",
       "    <tr style=\"text-align: right;\">\n",
       "      <th></th>\n",
       "      <th>Close</th>\n",
       "      <th>Volume</th>\n",
       "    </tr>\n",
       "    <tr>\n",
       "      <th>Date</th>\n",
       "      <th></th>\n",
       "      <th></th>\n",
       "    </tr>\n",
       "  </thead>\n",
       "  <tbody>\n",
       "    <tr>\n",
       "      <th>2021-01-04</th>\n",
       "      <td>159.331497</td>\n",
       "      <td>88228000.0</td>\n",
       "    </tr>\n",
       "    <tr>\n",
       "      <th>2021-01-05</th>\n",
       "      <td>160.925507</td>\n",
       "      <td>53110000.0</td>\n",
       "    </tr>\n",
       "    <tr>\n",
       "      <th>2021-01-06</th>\n",
       "      <td>156.919006</td>\n",
       "      <td>87896000.0</td>\n",
       "    </tr>\n",
       "    <tr>\n",
       "      <th>2021-01-07</th>\n",
       "      <td>158.108002</td>\n",
       "      <td>70290000.0</td>\n",
       "    </tr>\n",
       "    <tr>\n",
       "      <th>2021-01-08</th>\n",
       "      <td>159.134995</td>\n",
       "      <td>70754000.0</td>\n",
       "    </tr>\n",
       "  </tbody>\n",
       "</table>\n",
       "</div>"
      ],
      "text/plain": [
       "                 Close      Volume\n",
       "Date                              \n",
       "2021-01-04  159.331497  88228000.0\n",
       "2021-01-05  160.925507  53110000.0\n",
       "2021-01-06  156.919006  87896000.0\n",
       "2021-01-07  158.108002  70290000.0\n",
       "2021-01-08  159.134995  70754000.0"
      ]
     },
     "execution_count": 138,
     "metadata": {},
     "output_type": "execute_result"
    }
   ],
   "source": [
    "# Filtering the required data \n",
    "data = df_lstm[['Close' , 'Volume']]\n",
    "data.head()"
   ]
  },
  {
   "cell_type": "code",
   "execution_count": 139,
   "id": "13104bff",
   "metadata": {},
   "outputs": [],
   "source": [
    "def splitSequence(sequence, n_steps):\n",
    "    \n",
    "    X, y = list(), list()\n",
    "    for i in range(len(sequence)):\n",
    "        \n",
    "        # find the last index of sequence\n",
    "        last_index = i + n_steps\n",
    "        \n",
    "        # check if last_index greater than len(sequence)-1, then break\n",
    "        if last_index > len(sequence)-1:\n",
    "            break\n",
    "            \n",
    "        # input and output of the sequence\n",
    "        seq_x, seq_y = sequence[i:last_index], sequence[last_index]\n",
    "        \n",
    "        X.append(seq_x)\n",
    "        y.append(seq_y)\n",
    "        \n",
    "    return np.array(X), np.array(y)"
   ]
  },
  {
   "cell_type": "code",
   "execution_count": 140,
   "id": "d570fa5b",
   "metadata": {},
   "outputs": [],
   "source": [
    "X, Y = splitSequence(data['Close'], n_steps=32)"
   ]
  },
  {
   "cell_type": "code",
   "execution_count": 141,
   "id": "0cce87f0",
   "metadata": {},
   "outputs": [
    {
     "data": {
      "text/plain": [
       "array([[159.33149719, 160.92550659, 156.91900635, 158.10800171,\n",
       "        159.13499451, 155.710495  , 155.710495  , 155.710495  ,\n",
       "        156.04150391, 158.29449463, 156.37350464, 155.2124939 ,\n",
       "        156.03799438, 156.03799438, 156.03799438, 156.03799438,\n",
       "        163.16900635, 165.34950256, 164.61149597, 164.69999695,\n",
       "        164.69999695, 164.69999695, 166.3065033 , 161.6289978 ,\n",
       "        161.8809967 , 160.30999756, 167.14399719, 167.14399719,\n",
       "        167.14399719, 169.        , 165.62649536, 166.55000305],\n",
       "       [160.92550659, 156.91900635, 158.10800171, 159.13499451,\n",
       "        155.710495  , 155.710495  , 155.710495  , 156.04150391,\n",
       "        158.29449463, 156.37350464, 155.2124939 , 156.03799438,\n",
       "        156.03799438, 156.03799438, 156.03799438, 163.16900635,\n",
       "        165.34950256, 164.61149597, 164.69999695, 164.69999695,\n",
       "        164.69999695, 166.3065033 , 161.6289978 , 161.8809967 ,\n",
       "        160.30999756, 167.14399719, 167.14399719, 167.14399719,\n",
       "        169.        , 165.62649536, 166.55000305, 167.60749817],\n",
       "       [156.91900635, 158.10800171, 159.13499451, 155.710495  ,\n",
       "        155.710495  , 155.710495  , 156.04150391, 158.29449463,\n",
       "        156.37350464, 155.2124939 , 156.03799438, 156.03799438,\n",
       "        156.03799438, 156.03799438, 163.16900635, 165.34950256,\n",
       "        164.61149597, 164.69999695, 164.69999695, 164.69999695,\n",
       "        166.3065033 , 161.6289978 , 161.8809967 , 160.30999756,\n",
       "        167.14399719, 167.14399719, 167.14399719, 169.        ,\n",
       "        165.62649536, 166.55000305, 167.60749817, 166.14700317],\n",
       "       [158.10800171, 159.13499451, 155.710495  , 155.710495  ,\n",
       "        155.710495  , 156.04150391, 158.29449463, 156.37350464,\n",
       "        155.2124939 , 156.03799438, 156.03799438, 156.03799438,\n",
       "        156.03799438, 163.16900635, 165.34950256, 164.61149597,\n",
       "        164.69999695, 164.69999695, 164.69999695, 166.3065033 ,\n",
       "        161.6289978 , 161.8809967 , 160.30999756, 167.14399719,\n",
       "        167.14399719, 167.14399719, 169.        , 165.62649536,\n",
       "        166.55000305, 167.60749817, 166.14700317, 166.14700317],\n",
       "       [159.13499451, 155.710495  , 155.710495  , 155.710495  ,\n",
       "        156.04150391, 158.29449463, 156.37350464, 155.2124939 ,\n",
       "        156.03799438, 156.03799438, 156.03799438, 156.03799438,\n",
       "        163.16900635, 165.34950256, 164.61149597, 164.69999695,\n",
       "        164.69999695, 164.69999695, 166.3065033 , 161.6289978 ,\n",
       "        161.8809967 , 160.30999756, 167.14399719, 167.14399719,\n",
       "        167.14399719, 169.        , 165.62649536, 166.55000305,\n",
       "        167.60749817, 166.14700317, 166.14700317, 166.14700317],\n",
       "       [155.710495  , 155.710495  , 155.710495  , 156.04150391,\n",
       "        158.29449463, 156.37350464, 155.2124939 , 156.03799438,\n",
       "        156.03799438, 156.03799438, 156.03799438, 163.16900635,\n",
       "        165.34950256, 164.61149597, 164.69999695, 164.69999695,\n",
       "        164.69999695, 166.3065033 , 161.6289978 , 161.8809967 ,\n",
       "        160.30999756, 167.14399719, 167.14399719, 167.14399719,\n",
       "        169.        , 165.62649536, 166.55000305, 167.60749817,\n",
       "        166.14700317, 166.14700317, 166.14700317, 165.25      ],\n",
       "       [155.710495  , 155.710495  , 156.04150391, 158.29449463,\n",
       "        156.37350464, 155.2124939 , 156.03799438, 156.03799438,\n",
       "        156.03799438, 156.03799438, 163.16900635, 165.34950256,\n",
       "        164.61149597, 164.69999695, 164.69999695, 164.69999695,\n",
       "        166.3065033 , 161.6289978 , 161.8809967 , 160.30999756,\n",
       "        167.14399719, 167.14399719, 167.14399719, 169.        ,\n",
       "        165.62649536, 166.55000305, 167.60749817, 166.14700317,\n",
       "        166.14700317, 166.14700317, 165.25      , 164.32899475],\n",
       "       [155.710495  , 156.04150391, 158.29449463, 156.37350464,\n",
       "        155.2124939 , 156.03799438, 156.03799438, 156.03799438,\n",
       "        156.03799438, 163.16900635, 165.34950256, 164.61149597,\n",
       "        164.69999695, 164.69999695, 164.69999695, 166.3065033 ,\n",
       "        161.6289978 , 161.8809967 , 160.30999756, 167.14399719,\n",
       "        167.14399719, 167.14399719, 169.        , 165.62649536,\n",
       "        166.55000305, 167.60749817, 166.14700317, 166.14700317,\n",
       "        166.14700317, 165.25      , 164.32899475, 163.10650635],\n",
       "       [156.04150391, 158.29449463, 156.37350464, 155.2124939 ,\n",
       "        156.03799438, 156.03799438, 156.03799438, 156.03799438,\n",
       "        163.16900635, 165.34950256, 164.61149597, 164.69999695,\n",
       "        164.69999695, 164.69999695, 166.3065033 , 161.6289978 ,\n",
       "        161.8809967 , 160.30999756, 167.14399719, 167.14399719,\n",
       "        167.14399719, 169.        , 165.62649536, 166.55000305,\n",
       "        167.60749817, 166.14700317, 166.14700317, 166.14700317,\n",
       "        165.25      , 164.32899475, 163.10650635, 163.88549805],\n",
       "       [158.29449463, 156.37350464, 155.2124939 , 156.03799438,\n",
       "        156.03799438, 156.03799438, 156.03799438, 163.16900635,\n",
       "        165.34950256, 164.61149597, 164.69999695, 164.69999695,\n",
       "        164.69999695, 166.3065033 , 161.6289978 , 161.8809967 ,\n",
       "        160.30999756, 167.14399719, 167.14399719, 167.14399719,\n",
       "        169.        , 165.62649536, 166.55000305, 167.60749817,\n",
       "        166.14700317, 166.14700317, 166.14700317, 165.25      ,\n",
       "        164.32899475, 163.10650635, 163.88549805, 163.44749451]])"
      ]
     },
     "execution_count": 141,
     "metadata": {},
     "output_type": "execute_result"
    }
   ],
   "source": [
    "X[:10]"
   ]
  },
  {
   "cell_type": "code",
   "execution_count": 142,
   "id": "0fe84239",
   "metadata": {},
   "outputs": [
    {
     "data": {
      "text/plain": [
       "array([167.60749817, 166.14700317, 166.14700317, 166.14700317,\n",
       "       165.25      , 164.32899475, 163.10650635, 163.88549805,\n",
       "       163.44749451, 163.44749451])"
      ]
     },
     "execution_count": 142,
     "metadata": {},
     "output_type": "execute_result"
    }
   ],
   "source": [
    "Y[:10]"
   ]
  },
  {
   "cell_type": "code",
   "execution_count": 143,
   "id": "90d9df42",
   "metadata": {},
   "outputs": [
    {
     "name": "stdout",
     "output_type": "stream",
     "text": [
      "230\n",
      "727\n"
     ]
    }
   ],
   "source": [
    "# Testing Set length \n",
    "test_length = data[(data.index >= '2023-01-01')].shape[0]\n",
    "print(test_length)\n",
    "# Train length\n",
    "train_length = data[(data.index < '2023-01-01')].shape[0]\n",
    "print(train_length)\n",
    "\n"
   ]
  },
  {
   "cell_type": "code",
   "execution_count": 144,
   "id": "204d59e9",
   "metadata": {},
   "outputs": [],
   "source": [
    "from tensorflow.keras.models import Sequential\n",
    "from tensorflow.keras.layers import Dense , Dropout , LSTM , Bidirectional\n",
    "from tensorflow.keras.callbacks import ModelCheckpoint , ReduceLROnPlateau"
   ]
  },
  {
   "cell_type": "code",
   "execution_count": 145,
   "id": "319b3782",
   "metadata": {},
   "outputs": [
    {
     "data": {
      "text/plain": [
       "array([[[159.33149719],\n",
       "        [160.92550659],\n",
       "        [156.91900635],\n",
       "        [158.10800171],\n",
       "        [159.13499451],\n",
       "        [155.710495  ],\n",
       "        [155.710495  ],\n",
       "        [155.710495  ],\n",
       "        [156.04150391],\n",
       "        [158.29449463],\n",
       "        [156.37350464],\n",
       "        [155.2124939 ],\n",
       "        [156.03799438],\n",
       "        [156.03799438],\n",
       "        [156.03799438],\n",
       "        [156.03799438],\n",
       "        [163.16900635],\n",
       "        [165.34950256],\n",
       "        [164.61149597],\n",
       "        [164.69999695],\n",
       "        [164.69999695],\n",
       "        [164.69999695],\n",
       "        [166.3065033 ],\n",
       "        [161.6289978 ],\n",
       "        [161.8809967 ],\n",
       "        [160.30999756],\n",
       "        [167.14399719],\n",
       "        [167.14399719],\n",
       "        [167.14399719],\n",
       "        [169.        ],\n",
       "        [165.62649536],\n",
       "        [166.55000305]],\n",
       "\n",
       "       [[160.92550659],\n",
       "        [156.91900635],\n",
       "        [158.10800171],\n",
       "        [159.13499451],\n",
       "        [155.710495  ],\n",
       "        [155.710495  ],\n",
       "        [155.710495  ],\n",
       "        [156.04150391],\n",
       "        [158.29449463],\n",
       "        [156.37350464],\n",
       "        [155.2124939 ],\n",
       "        [156.03799438],\n",
       "        [156.03799438],\n",
       "        [156.03799438],\n",
       "        [156.03799438],\n",
       "        [163.16900635],\n",
       "        [165.34950256],\n",
       "        [164.61149597],\n",
       "        [164.69999695],\n",
       "        [164.69999695],\n",
       "        [164.69999695],\n",
       "        [166.3065033 ],\n",
       "        [161.6289978 ],\n",
       "        [161.8809967 ],\n",
       "        [160.30999756],\n",
       "        [167.14399719],\n",
       "        [167.14399719],\n",
       "        [167.14399719],\n",
       "        [169.        ],\n",
       "        [165.62649536],\n",
       "        [166.55000305],\n",
       "        [167.60749817]],\n",
       "\n",
       "       [[156.91900635],\n",
       "        [158.10800171],\n",
       "        [159.13499451],\n",
       "        [155.710495  ],\n",
       "        [155.710495  ],\n",
       "        [155.710495  ],\n",
       "        [156.04150391],\n",
       "        [158.29449463],\n",
       "        [156.37350464],\n",
       "        [155.2124939 ],\n",
       "        [156.03799438],\n",
       "        [156.03799438],\n",
       "        [156.03799438],\n",
       "        [156.03799438],\n",
       "        [163.16900635],\n",
       "        [165.34950256],\n",
       "        [164.61149597],\n",
       "        [164.69999695],\n",
       "        [164.69999695],\n",
       "        [164.69999695],\n",
       "        [166.3065033 ],\n",
       "        [161.6289978 ],\n",
       "        [161.8809967 ],\n",
       "        [160.30999756],\n",
       "        [167.14399719],\n",
       "        [167.14399719],\n",
       "        [167.14399719],\n",
       "        [169.        ],\n",
       "        [165.62649536],\n",
       "        [166.55000305],\n",
       "        [167.60749817],\n",
       "        [166.14700317]],\n",
       "\n",
       "       [[158.10800171],\n",
       "        [159.13499451],\n",
       "        [155.710495  ],\n",
       "        [155.710495  ],\n",
       "        [155.710495  ],\n",
       "        [156.04150391],\n",
       "        [158.29449463],\n",
       "        [156.37350464],\n",
       "        [155.2124939 ],\n",
       "        [156.03799438],\n",
       "        [156.03799438],\n",
       "        [156.03799438],\n",
       "        [156.03799438],\n",
       "        [163.16900635],\n",
       "        [165.34950256],\n",
       "        [164.61149597],\n",
       "        [164.69999695],\n",
       "        [164.69999695],\n",
       "        [164.69999695],\n",
       "        [166.3065033 ],\n",
       "        [161.6289978 ],\n",
       "        [161.8809967 ],\n",
       "        [160.30999756],\n",
       "        [167.14399719],\n",
       "        [167.14399719],\n",
       "        [167.14399719],\n",
       "        [169.        ],\n",
       "        [165.62649536],\n",
       "        [166.55000305],\n",
       "        [167.60749817],\n",
       "        [166.14700317],\n",
       "        [166.14700317]],\n",
       "\n",
       "       [[159.13499451],\n",
       "        [155.710495  ],\n",
       "        [155.710495  ],\n",
       "        [155.710495  ],\n",
       "        [156.04150391],\n",
       "        [158.29449463],\n",
       "        [156.37350464],\n",
       "        [155.2124939 ],\n",
       "        [156.03799438],\n",
       "        [156.03799438],\n",
       "        [156.03799438],\n",
       "        [156.03799438],\n",
       "        [163.16900635],\n",
       "        [165.34950256],\n",
       "        [164.61149597],\n",
       "        [164.69999695],\n",
       "        [164.69999695],\n",
       "        [164.69999695],\n",
       "        [166.3065033 ],\n",
       "        [161.6289978 ],\n",
       "        [161.8809967 ],\n",
       "        [160.30999756],\n",
       "        [167.14399719],\n",
       "        [167.14399719],\n",
       "        [167.14399719],\n",
       "        [169.        ],\n",
       "        [165.62649536],\n",
       "        [166.55000305],\n",
       "        [167.60749817],\n",
       "        [166.14700317],\n",
       "        [166.14700317],\n",
       "        [166.14700317]]])"
      ]
     },
     "execution_count": 145,
     "metadata": {},
     "output_type": "execute_result"
    }
   ],
   "source": [
    "n_features = 1\n",
    "X = X.reshape((X.shape[0], X.shape[1], n_features))\n",
    "X[:5][:5]"
   ]
  },
  {
   "cell_type": "code",
   "execution_count": 146,
   "id": "c1bd09a5",
   "metadata": {},
   "outputs": [],
   "source": [
    "Xtrain = X[:train_length]\n",
    "Xtest = X[train_length:]\n",
    "Ytrain = Y[:train_length]\n",
    "Ytest = Y[train_length:]"
   ]
  },
  {
   "cell_type": "code",
   "execution_count": 147,
   "id": "6532b333",
   "metadata": {},
   "outputs": [],
   "source": [
    "save_best = ModelCheckpoint(\"best_weights.h5\", monitor='val_loss', save_best_only=True, save_weights_only=True)"
   ]
  },
  {
   "cell_type": "code",
   "execution_count": 148,
   "id": "35cb400f",
   "metadata": {},
   "outputs": [],
   "source": [
    "reduce_lr = ReduceLROnPlateau(monitor='val_loss', factor=0.25,patience=4, min_lr=0.00001,verbose = 1)"
   ]
  },
  {
   "cell_type": "code",
   "execution_count": 149,
   "id": "1c83cefb",
   "metadata": {},
   "outputs": [
    {
     "data": {
      "text/plain": [
       "<keras.engine.sequential.Sequential at 0x17199ddc510>"
      ]
     },
     "execution_count": 149,
     "metadata": {},
     "output_type": "execute_result"
    }
   ],
   "source": [
    "model = Sequential()\n",
    "model.add(Bidirectional(LSTM(50, activation='relu'), input_shape=(32,1)))\n",
    "model.add(Dense(1))\n",
    "model"
   ]
  },
  {
   "cell_type": "code",
   "execution_count": 150,
   "id": "60ea6dea",
   "metadata": {},
   "outputs": [],
   "source": [
    "opt = tf.keras.optimizers.Adam(learning_rate=0.002)"
   ]
  },
  {
   "cell_type": "code",
   "execution_count": 152,
   "id": "a5f78122",
   "metadata": {},
   "outputs": [],
   "source": [
    "model.compile(optimizer=opt, loss='mse')"
   ]
  },
  {
   "cell_type": "code",
   "execution_count": 153,
   "id": "aa4d54b0",
   "metadata": {
    "scrolled": true
   },
   "outputs": [
    {
     "name": "stdout",
     "output_type": "stream",
     "text": [
      "Epoch 1/10\n",
      "727/727 [==============================] - 23s 24ms/step - loss: 3431.2195 - val_loss: 137.5775 - lr: 0.0020\n",
      "Epoch 2/10\n",
      "727/727 [==============================] - 16s 22ms/step - loss: 125.5943 - val_loss: 127.3470 - lr: 0.0020\n",
      "Epoch 3/10\n",
      "727/727 [==============================] - 16s 22ms/step - loss: 11569.5488 - val_loss: 258.6028 - lr: 0.0020\n",
      "Epoch 4/10\n",
      "727/727 [==============================] - 16s 22ms/step - loss: 92.0929 - val_loss: 265.7253 - lr: 0.0020\n",
      "Epoch 5/10\n",
      "727/727 [==============================] - 13s 18ms/step - loss: 86.0028 - val_loss: 158.0390 - lr: 0.0020\n",
      "Epoch 6/10\n",
      "726/727 [============================>.] - ETA: 0s - loss: 91.8765\n",
      "Epoch 6: ReduceLROnPlateau reducing learning rate to 0.0005000000237487257.\n",
      "727/727 [==============================] - 15s 20ms/step - loss: 91.7524 - val_loss: 140.1852 - lr: 0.0020\n",
      "Epoch 7/10\n",
      "727/727 [==============================] - 16s 22ms/step - loss: 147.5968 - val_loss: 51.0562 - lr: 5.0000e-04\n",
      "Epoch 8/10\n",
      "727/727 [==============================] - 13s 18ms/step - loss: 140.2964 - val_loss: 43.5625 - lr: 5.0000e-04\n",
      "Epoch 9/10\n",
      "727/727 [==============================] - 13s 18ms/step - loss: 131.7991 - val_loss: 41.7609 - lr: 5.0000e-04\n",
      "Epoch 10/10\n",
      "727/727 [==============================] - 13s 17ms/step - loss: 130.3527 - val_loss: 28.5066 - lr: 5.0000e-04\n"
     ]
    }
   ],
   "source": [
    "history = model.fit(Xtrain , Ytrain, epochs=10, batch_size = 1, verbose=1, shuffle=False, validation_data=(Xtest, Ytest), callbacks=[reduce_lr , save_best])\n",
    "#history = model.fit(X, Y, epochs=1, verbose=1)"
   ]
  },
  {
   "cell_type": "code",
   "execution_count": 154,
   "id": "6c9bfc4a",
   "metadata": {},
   "outputs": [
    {
     "data": {
      "image/png": "[encoded data removed]",
      "text/plain": [
       "<Figure size 1000x600 with 1 Axes>"
      ]
     },
     "metadata": {},
     "output_type": "display_data"
    }
   ],
   "source": [
    "import matplotlib.pyplot as plt\n",
    "plt.figure(figsize =(10, 6))\n",
    "plt.plot(history.history['loss'])\n",
    "plt.title('Model Loss')\n",
    "plt.ylabel('Loss')\n",
    "plt.xlabel('Epoch')\n",
    "plt.legend(['Train'], loc='upper left')\n",
    "plt.show()"
   ]
  },
  {
   "cell_type": "code",
   "execution_count": 155,
   "id": "055cdcf2",
   "metadata": {},
   "outputs": [
    {
     "name": "stdout",
     "output_type": "stream",
     "text": [
      "Model: \"sequential_3\"\n",
      "_________________________________________________________________\n",
      " Layer (type)                Output Shape              Param #   \n",
      "=================================================================\n",
      " bidirectional_3 (Bidirectio  (None, 100)              20800     \n",
      " nal)                                                            \n",
      "                                                                 \n",
      " dense_3 (Dense)             (None, 1)                 101       \n",
      "                                                                 \n",
      "=================================================================\n",
      "Total params: 20,901\n",
      "Trainable params: 20,901\n",
      "Non-trainable params: 0\n",
      "_________________________________________________________________\n"
     ]
    }
   ],
   "source": [
    "model.summary()"
   ]
  },
  {
   "cell_type": "code",
   "execution_count": 157,
   "id": "ede24876",
   "metadata": {},
   "outputs": [],
   "source": [
    "# Load the best weights\n",
    "model.load_weights(\"best_weights.h5\")"
   ]
  },
  {
   "cell_type": "code",
   "execution_count": 158,
   "id": "160b474b",
   "metadata": {},
   "outputs": [
    {
     "name": "stdout",
     "output_type": "stream",
     "text": [
      "7/7 [==============================] - 0s 8ms/step\n"
     ]
    }
   ],
   "source": [
    "Predictions = model.predict(Xtest)"
   ]
  },
  {
   "cell_type": "code",
   "execution_count": 159,
   "id": "07041c89",
   "metadata": {},
   "outputs": [
    {
     "data": {
      "text/plain": [
       "array([[ 95.3516  ],\n",
       "       [ 95.788704],\n",
       "       [ 96.7317  ],\n",
       "       [ 96.59834 ],\n",
       "       [ 96.45539 ],\n",
       "       [ 98.23838 ],\n",
       "       [100.193474],\n",
       "       [101.18115 ],\n",
       "       [100.13363 ],\n",
       "       [100.99749 ],\n",
       "       [102.46888 ],\n",
       "       [104.189156],\n",
       "       [103.321434],\n",
       "       [105.75519 ],\n",
       "       [104.08801 ],\n",
       "       [104.40749 ],\n",
       "       [103.38857 ],\n",
       "       [103.790016],\n",
       "       [102.430244],\n",
       "       [103.70371 ],\n",
       "       [103.56833 ],\n",
       "       [104.03689 ],\n",
       "       [103.26975 ],\n",
       "       [103.26678 ],\n",
       "       [102.688934],\n",
       "       [104.16306 ],\n",
       "       [104.59582 ],\n",
       "       [104.51145 ],\n",
       "       [103.95809 ],\n",
       "       [102.57915 ],\n",
       "       [101.13694 ],\n",
       "       [102.040375],\n",
       "       [100.93049 ],\n",
       "       [100.79823 ],\n",
       "       [100.44913 ],\n",
       "       [100.03637 ],\n",
       "       [ 99.694275],\n",
       "       [ 99.22452 ],\n",
       "       [ 99.093285],\n",
       "       [ 99.65147 ],\n",
       "       [ 99.657974],\n",
       "       [ 99.0241  ],\n",
       "       [ 98.41898 ],\n",
       "       [ 97.790825],\n",
       "       [ 97.80575 ],\n",
       "       [ 97.47784 ],\n",
       "       [ 97.02062 ],\n",
       "       [ 97.00799 ],\n",
       "       [ 96.91595 ],\n",
       "       [ 96.48272 ],\n",
       "       [ 96.59391 ],\n",
       "       [ 95.988075],\n",
       "       [ 97.09924 ],\n",
       "       [ 97.590004],\n",
       "       [ 97.57905 ],\n",
       "       [ 98.635475],\n",
       "       [ 98.77272 ],\n",
       "       [ 99.137634],\n",
       "       [ 99.09844 ],\n",
       "       [ 98.55326 ],\n",
       "       [ 98.642334],\n",
       "       [ 99.64472 ],\n",
       "       [ 99.225945],\n",
       "       [ 99.21247 ],\n",
       "       [ 99.56173 ],\n",
       "       [ 99.80044 ],\n",
       "       [100.52569 ],\n",
       "       [100.614525],\n",
       "       [101.23295 ],\n",
       "       [102.38842 ],\n",
       "       [102.33155 ],\n",
       "       [102.62864 ],\n",
       "       [102.20909 ],\n",
       "       [103.17174 ],\n",
       "       [104.075645],\n",
       "       [103.80588 ],\n",
       "       [103.916916],\n",
       "       [103.33155 ],\n",
       "       [104.01467 ],\n",
       "       [103.72916 ],\n",
       "       [103.785194],\n",
       "       [103.55366 ],\n",
       "       [103.8214  ],\n",
       "       [104.19563 ],\n",
       "       [104.63662 ],\n",
       "       [105.30601 ],\n",
       "       [104.53756 ],\n",
       "       [105.99435 ],\n",
       "       [105.89822 ],\n",
       "       [106.22899 ],\n",
       "       [106.03327 ],\n",
       "       [107.32028 ],\n",
       "       [107.18908 ],\n",
       "       [107.309235],\n",
       "       [107.0575  ],\n",
       "       [106.624825],\n",
       "       [106.249016],\n",
       "       [107.30576 ],\n",
       "       [107.04327 ],\n",
       "       [108.02044 ],\n",
       "       [106.52259 ],\n",
       "       [105.35024 ],\n",
       "       [106.56353 ],\n",
       "       [106.8522  ],\n",
       "       [107.476845],\n",
       "       [108.1743  ],\n",
       "       [108.562515],\n",
       "       [108.38482 ],\n",
       "       [109.021675],\n",
       "       [109.19825 ],\n",
       "       [109.943474],\n",
       "       [111.4977  ],\n",
       "       [111.16103 ],\n",
       "       [112.01856 ],\n",
       "       [111.02204 ],\n",
       "       [112.64425 ],\n",
       "       [112.99311 ],\n",
       "       [113.32502 ],\n",
       "       [113.62113 ],\n",
       "       [114.32743 ],\n",
       "       [114.719505],\n",
       "       [114.64948 ],\n",
       "       [115.14092 ],\n",
       "       [115.9784  ],\n",
       "       [117.04596 ],\n",
       "       [117.54627 ],\n",
       "       [118.1278  ],\n",
       "       [118.73205 ],\n",
       "       [120.165855],\n",
       "       [120.42135 ],\n",
       "       [121.15653 ],\n",
       "       [121.53788 ],\n",
       "       [122.336754],\n",
       "       [122.85406 ],\n",
       "       [123.18496 ],\n",
       "       [124.05802 ],\n",
       "       [123.923454],\n",
       "       [124.37051 ],\n",
       "       [124.10313 ],\n",
       "       [124.61657 ],\n",
       "       [124.50137 ],\n",
       "       [126.04667 ],\n",
       "       [125.976234],\n",
       "       [127.17368 ],\n",
       "       [126.80511 ],\n",
       "       [126.83137 ],\n",
       "       [126.761665],\n",
       "       [127.46911 ],\n",
       "       [127.74352 ],\n",
       "       [128.16098 ],\n",
       "       [128.2974  ],\n",
       "       [128.52803 ],\n",
       "       [127.89119 ],\n",
       "       [127.88157 ],\n",
       "       [129.35997 ],\n",
       "       [128.62083 ],\n",
       "       [130.23785 ],\n",
       "       [129.32751 ],\n",
       "       [130.08546 ],\n",
       "       [130.36101 ],\n",
       "       [130.39084 ],\n",
       "       [130.58237 ],\n",
       "       [130.04959 ],\n",
       "       [130.44083 ],\n",
       "       [130.20154 ],\n",
       "       [130.1192  ],\n",
       "       [130.15904 ],\n",
       "       [130.63345 ],\n",
       "       [131.37593 ],\n",
       "       [130.18271 ],\n",
       "       [131.17075 ],\n",
       "       [131.1138  ],\n",
       "       [131.3881  ],\n",
       "       [131.9208  ],\n",
       "       [132.51898 ],\n",
       "       [133.34676 ],\n",
       "       [133.88745 ],\n",
       "       [133.1968  ],\n",
       "       [133.87671 ],\n",
       "       [133.47011 ],\n",
       "       [133.4236  ],\n",
       "       [132.93188 ],\n",
       "       [133.58244 ],\n",
       "       [131.87683 ],\n",
       "       [131.10718 ],\n",
       "       [131.47137 ],\n",
       "       [131.64378 ],\n",
       "       [132.03748 ],\n",
       "       [132.87366 ],\n",
       "       [133.57211 ],\n",
       "       [134.22897 ],\n",
       "       [134.29665 ],\n",
       "       [135.13611 ],\n",
       "       [134.6583  ],\n",
       "       [134.95786 ],\n",
       "       [135.38521 ],\n",
       "       [135.68321 ],\n",
       "       [138.16849 ]], dtype=float32)"
      ]
     },
     "execution_count": 159,
     "metadata": {},
     "output_type": "execute_result"
    }
   ],
   "source": [
    "Predictions"
   ]
  },
  {
   "cell_type": "code",
   "execution_count": 162,
   "id": "d7dc699e",
   "metadata": {},
   "outputs": [],
   "source": [
    "Actual = (Ytest)"
   ]
  },
  {
   "cell_type": "code",
   "execution_count": 163,
   "id": "611b1458",
   "metadata": {},
   "outputs": [
    {
     "data": {
      "text/plain": [
       "array([112.91000366, 103.38999939, 102.18000031, 102.18000031,\n",
       "       102.18000031, 102.11000061, 100.05000305,  98.23999786,\n",
       "        97.61000061,  99.54000092,  99.54000092,  99.54000092,\n",
       "        99.69999695, 101.16000366,  98.15000153,  97.19999695,\n",
       "        94.58000183,  94.58000183,  94.58000183,  94.58000183,\n",
       "        95.79000092,  95.81999969,  93.5       ,  93.76000214,\n",
       "        93.76000214,  93.76000214,  94.23000336,  92.16999817,\n",
       "        92.12999725,  94.90000153,  93.75      ,  93.75      ,\n",
       "        93.75      ,  93.55000305,  93.91999817,  92.25      ,\n",
       "        90.73000336,  92.43000031,  92.43000031,  92.43000031,\n",
       "        94.87999725,  96.19999695, 100.04000092,  98.94999695,\n",
       "        97.70999908,  97.70999908,  97.70999908, 100.61000061,\n",
       "        98.69999695,  98.70999908,  98.12999725,  98.04000092,\n",
       "        98.04000092,  98.04000092,  97.23999786, 100.25      ,\n",
       "       102.        , 103.29000092, 102.41000366, 102.41000366,\n",
       "       102.41000366, 103.94999695, 101.09999847, 102.05999756,\n",
       "       102.16999817, 102.16999817, 102.16999817, 102.16999817,\n",
       "        99.91999817,  97.83000183, 102.40000153, 102.51000214,\n",
       "       102.73999786, 102.73999786, 102.73999786, 102.30000305,\n",
       "       104.30000305, 103.80999756, 106.95999908, 106.20999908,\n",
       "       106.20999908, 106.20999908, 102.56999969, 104.98000336,\n",
       "       109.81999969, 105.44999695, 102.05000305, 102.05000305,\n",
       "       102.05000305, 103.62999725, 103.65000153, 104.        ,\n",
       "       105.66000366, 105.83000183, 105.83000183, 105.83000183,\n",
       "       106.62000275, 110.19000244, 112.18000031, 110.26000214,\n",
       "       111.19999695, 111.19999695, 111.19999695, 113.40000153,\n",
       "       115.5       , 118.15000153, 116.25      , 115.01000214,\n",
       "       115.01000214, 115.01000214, 114.98999786, 116.75      ,\n",
       "       115.        , 120.11000061, 121.66000366, 121.66000366,\n",
       "       121.66000366, 121.66000366, 120.58000183, 122.76999664,\n",
       "       124.25      , 125.30000305, 125.30000305, 125.30000305,\n",
       "       126.61000061, 121.23000336, 124.25      , 123.43000031,\n",
       "       126.56999969, 126.56999969, 126.56999969, 126.66000366,\n",
       "       126.41999817, 127.11000061, 125.48999786, 125.77999878,\n",
       "       125.77999878, 125.77999878, 125.77999878, 124.83000183,\n",
       "       130.1499939 , 129.33000183, 127.33000183, 127.33000183,\n",
       "       127.33000183, 129.17999268, 129.03999329, 127.90000153,\n",
       "       130.36000061, 130.22000122, 130.22000122, 130.22000122,\n",
       "       130.38000488, 130.38000488, 128.36000061, 129.77999878,\n",
       "       127.12999725, 127.12999725, 127.12999725, 128.77999878,\n",
       "       130.80000305, 134.30000305, 134.67999268, 133.55999756,\n",
       "       133.55999756, 133.55999756, 132.83000183, 135.36000061,\n",
       "       129.96000671, 130.        , 128.80000305, 128.80000305,\n",
       "       128.80000305, 129.13000488, 128.1499939 , 128.25      ,\n",
       "       132.21000671, 133.67999268, 133.67999268, 133.67999268,\n",
       "       131.69000244, 128.21000671, 128.91000366, 139.57000732,\n",
       "       142.22000122, 142.22000122, 142.22000122, 139.94000244,\n",
       "       137.8500061 , 138.55999756, 138.41000366, 140.57000732,\n",
       "       140.57000732, 140.57000732, 137.66999817, 135.07000732,\n",
       "       133.97999573, 133.22000122])"
      ]
     },
     "execution_count": 163,
     "metadata": {},
     "output_type": "execute_result"
    }
   ],
   "source": [
    "Actual"
   ]
  },
  {
   "cell_type": "code",
   "execution_count": 164,
   "id": "95ee5132",
   "metadata": {},
   "outputs": [],
   "source": [
    "Predictions = np.squeeze(Predictions , axis = 1)"
   ]
  },
  {
   "cell_type": "code",
   "execution_count": 166,
   "id": "05735aad",
   "metadata": {},
   "outputs": [
    {
     "data": {
      "text/html": [
       "<div>\n",
       "<style scoped>\n",
       "    .dataframe tbody tr th:only-of-type {\n",
       "        vertical-align: middle;\n",
       "    }\n",
       "\n",
       "    .dataframe tbody tr th {\n",
       "        vertical-align: top;\n",
       "    }\n",
       "\n",
       "    .dataframe thead th {\n",
       "        text-align: right;\n",
       "    }\n",
       "</style>\n",
       "<table border=\"1\" class=\"dataframe\">\n",
       "  <thead>\n",
       "    <tr style=\"text-align: right;\">\n",
       "      <th></th>\n",
       "      <th>Actual</th>\n",
       "      <th>Predicted</th>\n",
       "    </tr>\n",
       "  </thead>\n",
       "  <tbody>\n",
       "    <tr>\n",
       "      <th>0</th>\n",
       "      <td>112.910004</td>\n",
       "      <td>95.351601</td>\n",
       "    </tr>\n",
       "    <tr>\n",
       "      <th>1</th>\n",
       "      <td>103.389999</td>\n",
       "      <td>95.788704</td>\n",
       "    </tr>\n",
       "    <tr>\n",
       "      <th>2</th>\n",
       "      <td>102.180000</td>\n",
       "      <td>96.731697</td>\n",
       "    </tr>\n",
       "    <tr>\n",
       "      <th>3</th>\n",
       "      <td>102.180000</td>\n",
       "      <td>96.598343</td>\n",
       "    </tr>\n",
       "    <tr>\n",
       "      <th>4</th>\n",
       "      <td>102.180000</td>\n",
       "      <td>96.455391</td>\n",
       "    </tr>\n",
       "  </tbody>\n",
       "</table>\n",
       "</div>"
      ],
      "text/plain": [
       "       Actual  Predicted\n",
       "0  112.910004  95.351601\n",
       "1  103.389999  95.788704\n",
       "2  102.180000  96.731697\n",
       "3  102.180000  96.598343\n",
       "4  102.180000  96.455391"
      ]
     },
     "execution_count": 166,
     "metadata": {},
     "output_type": "execute_result"
    }
   ],
   "source": [
    "# Creating Sample Test Dataframe\n",
    "test_dataframe_dict = {'Actual' : list(Actual) , 'Predicted' : list(Predictions)}\n",
    "test_df = pd.DataFrame.from_dict(test_dataframe_dict)\n",
    "test_df.head()\n"
   ]
  },
  {
   "cell_type": "code",
   "execution_count": 167,
   "id": "e702be71",
   "metadata": {},
   "outputs": [
    {
     "data": {
      "application/vnd.plotly.v1+json": {
       "config": {
        "plotlyServerURL": "https://plot.ly"
       },
       "data": [
        {
         "mode": "lines",
         "name": "Actual",
         "type": "scatter",
         "x": [
          0,
          1,
          2,
          3,
          4,
          5,
          6,
          7,
          8,
          9,
          10,
          11,
          12,
          13,
          14,
          15,
          16,
          17,
          18,
          19,
          20,
          21,
          22,
          23,
          24,
          25,
          26,
          27,
          28,
          29,
          30,
          31,
          32,
          33,
          34,
          35,
          36,
          37,
          38,
          39,
          40,
          41,
          42,
          43,
          44,
          45,
          46,
          47,
          48,
          49,
          50,
          51,
          52,
          53,
          54,
          55,
          56,
          57,
          58,
          59,
          60,
          61,
          62,
          63,
          64,
          65,
          66,
          67,
          68,
          69,
          70,
          71,
          72,
          73,
          74,
          75,
          76,
          77,
          78,
          79,
          80,
          81,
          82,
          83,
          84,
          85,
          86,
          87,
          88,
          89,
          90,
          91,
          92,
          93,
          94,
          95,
          96,
          97,
          98,
          99,
          100,
          101,
          102,
          103,
          104,
          105,
          106,
          107,
          108,
          109,
          110,
          111,
          112,
          113,
          114,
          115,
          116,
          117,
          118,
          119,
          120,
          121,
          122,
          123,
          124,
          125,
          126,
          127,
          128,
          129,
          130,
          131,
          132,
          133,
          134,
          135,
          136,
          137,
          138,
          139,
          140,
          141,
          142,
          143,
          144,
          145,
          146,
          147,
          148,
          149,
          150,
          151,
          152,
          153,
          154,
          155,
          156,
          157,
          158,
          159,
          160,
          161,
          162,
          163,
          164,
          165,
          166,
          167,
          168,
          169,
          170,
          171,
          172,
          173,
          174,
          175,
          176,
          177,
          178,
          179,
          180,
          181,
          182,
          183,
          184,
          185,
          186,
          187,
          188,
          189,
          190,
          191,
          192,
          193,
          194,
          195,
          196,
          197
         ],
         "y": [
          112.91000366210938,
          103.38999938964844,
          102.18000030517578,
          102.18000030517578,
          102.18000030517578,
          102.11000061035156,
          100.05000305175781,
          98.23999786376953,
          97.61000061035156,
          99.54000091552734,
          99.54000091552734,
          99.54000091552734,
          99.69999694824219,
          101.16000366210938,
          98.1500015258789,
          97.19999694824219,
          94.58000183105469,
          94.58000183105469,
          94.58000183105469,
          94.58000183105469,
          95.79000091552734,
          95.81999969482422,
          93.5,
          93.76000213623047,
          93.76000213623047,
          93.76000213623047,
          94.2300033569336,
          92.16999816894531,
          92.12999725341797,
          94.9000015258789,
          93.75,
          93.75,
          93.75,
          93.55000305175781,
          93.91999816894531,
          92.25,
          90.7300033569336,
          92.43000030517578,
          92.43000030517578,
          92.43000030517578,
          94.87999725341797,
          96.19999694824219,
          100.04000091552734,
          98.94999694824219,
          97.70999908447266,
          97.70999908447266,
          97.70999908447266,
          100.61000061035156,
          98.69999694824219,
          98.70999908447266,
          98.12999725341797,
          98.04000091552734,
          98.04000091552734,
          98.04000091552734,
          97.23999786376953,
          100.25,
          102,
          103.29000091552734,
          102.41000366210938,
          102.41000366210938,
          102.41000366210938,
          103.94999694824219,
          101.0999984741211,
          102.05999755859375,
          102.16999816894531,
          102.16999816894531,
          102.16999816894531,
          102.16999816894531,
          99.91999816894531,
          97.83000183105469,
          102.4000015258789,
          102.51000213623047,
          102.73999786376953,
          102.73999786376953,
          102.73999786376953,
          102.30000305175781,
          104.30000305175781,
          103.80999755859375,
          106.95999908447266,
          106.20999908447266,
          106.20999908447266,
          106.20999908447266,
          102.56999969482422,
          104.9800033569336,
          109.81999969482422,
          105.44999694824219,
          102.05000305175781,
          102.05000305175781,
          102.05000305175781,
          103.62999725341797,
          103.6500015258789,
          104,
          105.66000366210938,
          105.83000183105469,
          105.83000183105469,
          105.83000183105469,
          106.62000274658203,
          110.19000244140625,
          112.18000030517578,
          110.26000213623047,
          111.19999694824219,
          111.19999694824219,
          111.19999694824219,
          113.4000015258789,
          115.5,
          118.1500015258789,
          116.25,
          115.01000213623047,
          115.01000213623047,
          115.01000213623047,
          114.98999786376953,
          116.75,
          115,
          120.11000061035156,
          121.66000366210938,
          121.66000366210938,
          121.66000366210938,
          121.66000366210938,
          120.58000183105469,
          122.7699966430664,
          124.25,
          125.30000305175781,
          125.30000305175781,
          125.30000305175781,
          126.61000061035156,
          121.2300033569336,
          124.25,
          123.43000030517578,
          126.56999969482422,
          126.56999969482422,
          126.56999969482422,
          126.66000366210938,
          126.41999816894531,
          127.11000061035156,
          125.48999786376953,
          125.77999877929688,
          125.77999877929688,
          125.77999877929688,
          125.77999877929688,
          124.83000183105469,
          130.14999389648438,
          129.3300018310547,
          127.33000183105469,
          127.33000183105469,
          127.33000183105469,
          129.17999267578125,
          129.0399932861328,
          127.9000015258789,
          130.36000061035156,
          130.22000122070312,
          130.22000122070312,
          130.22000122070312,
          130.3800048828125,
          130.3800048828125,
          128.36000061035156,
          129.77999877929688,
          127.12999725341797,
          127.12999725341797,
          127.12999725341797,
          128.77999877929688,
          130.8000030517578,
          134.3000030517578,
          134.67999267578125,
          133.55999755859375,
          133.55999755859375,
          133.55999755859375,
          132.8300018310547,
          135.36000061035156,
          129.9600067138672,
          130,
          128.8000030517578,
          128.8000030517578,
          128.8000030517578,
          129.1300048828125,
          128.14999389648438,
          128.25,
          132.2100067138672,
          133.67999267578125,
          133.67999267578125,
          133.67999267578125,
          131.69000244140625,
          128.2100067138672,
          128.91000366210938,
          139.57000732421875,
          142.22000122070312,
          142.22000122070312,
          142.22000122070312,
          139.94000244140625,
          137.85000610351562,
          138.55999755859375,
          138.41000366210938,
          140.57000732421875,
          140.57000732421875,
          140.57000732421875,
          137.6699981689453,
          135.07000732421875,
          133.97999572753906,
          133.22000122070312
         ]
        },
        {
         "mode": "lines",
         "name": "Predicted",
         "type": "scatter",
         "x": [
          0,
          1,
          2,
          3,
          4,
          5,
          6,
          7,
          8,
          9,
          10,
          11,
          12,
          13,
          14,
          15,
          16,
          17,
          18,
          19,
          20,
          21,
          22,
          23,
          24,
          25,
          26,
          27,
          28,
          29,
          30,
          31,
          32,
          33,
          34,
          35,
          36,
          37,
          38,
          39,
          40,
          41,
          42,
          43,
          44,
          45,
          46,
          47,
          48,
          49,
          50,
          51,
          52,
          53,
          54,
          55,
          56,
          57,
          58,
          59,
          60,
          61,
          62,
          63,
          64,
          65,
          66,
          67,
          68,
          69,
          70,
          71,
          72,
          73,
          74,
          75,
          76,
          77,
          78,
          79,
          80,
          81,
          82,
          83,
          84,
          85,
          86,
          87,
          88,
          89,
          90,
          91,
          92,
          93,
          94,
          95,
          96,
          97,
          98,
          99,
          100,
          101,
          102,
          103,
          104,
          105,
          106,
          107,
          108,
          109,
          110,
          111,
          112,
          113,
          114,
          115,
          116,
          117,
          118,
          119,
          120,
          121,
          122,
          123,
          124,
          125,
          126,
          127,
          128,
          129,
          130,
          131,
          132,
          133,
          134,
          135,
          136,
          137,
          138,
          139,
          140,
          141,
          142,
          143,
          144,
          145,
          146,
          147,
          148,
          149,
          150,
          151,
          152,
          153,
          154,
          155,
          156,
          157,
          158,
          159,
          160,
          161,
          162,
          163,
          164,
          165,
          166,
          167,
          168,
          169,
          170,
          171,
          172,
          173,
          174,
          175,
          176,
          177,
          178,
          179,
          180,
          181,
          182,
          183,
          184,
          185,
          186,
          187,
          188,
          189,
          190,
          191,
          192,
          193,
          194,
          195,
          196,
          197
         ],
         "y": [
          95.35160064697266,
          95.78870391845703,
          96.73169708251953,
          96.59834289550781,
          96.45539093017578,
          98.2383804321289,
          100.19347381591797,
          101.18115234375,
          100.13362884521484,
          100.99748992919922,
          102.46887969970703,
          104.18915557861328,
          103.3214340209961,
          105.75518798828125,
          104.0880126953125,
          104.4074935913086,
          103.3885726928711,
          103.7900161743164,
          102.43024444580078,
          103.7037124633789,
          103.56832885742188,
          104.0368881225586,
          103.2697525024414,
          103.26677703857422,
          102.68893432617188,
          104.1630630493164,
          104.59581756591797,
          104.5114517211914,
          103.95809173583984,
          102.57914733886719,
          101.1369400024414,
          102.04037475585938,
          100.93048858642578,
          100.79823303222656,
          100.44912719726562,
          100.03636932373047,
          99.69427490234375,
          99.22451782226562,
          99.0932846069336,
          99.6514663696289,
          99.65797424316406,
          99.02410125732422,
          98.41898345947266,
          97.79082489013672,
          97.80574798583984,
          97.47783660888672,
          97.02062225341797,
          97.00798797607422,
          96.91594696044922,
          96.48271942138672,
          96.59391021728516,
          95.98807525634766,
          97.0992431640625,
          97.59000396728516,
          97.57904815673828,
          98.6354751586914,
          98.77272033691406,
          99.13763427734375,
          99.09844207763672,
          98.55326080322266,
          98.642333984375,
          99.64472198486328,
          99.22594451904297,
          99.21247100830078,
          99.56172943115234,
          99.8004379272461,
          100.52568817138672,
          100.6145248413086,
          101.23294830322266,
          102.38842010498047,
          102.33155059814453,
          102.6286392211914,
          102.20909118652344,
          103.17173767089844,
          104.07564544677734,
          103.80587768554688,
          103.91691589355469,
          103.33155059814453,
          104.0146713256836,
          103.72915649414062,
          103.78519439697266,
          103.55365753173828,
          103.82140350341797,
          104.19563293457031,
          104.6366195678711,
          105.3060073852539,
          104.53755950927734,
          105.99434661865234,
          105.8982162475586,
          106.22898864746094,
          106.03327178955078,
          107.32028198242188,
          107.18907928466797,
          107.30923461914062,
          107.05750274658203,
          106.62482452392578,
          106.24901580810547,
          107.3057632446289,
          107.04326629638672,
          108.02043914794922,
          106.52259063720703,
          105.3502426147461,
          106.56352996826172,
          106.85220336914062,
          107.47684478759766,
          108.17430114746094,
          108.56251525878906,
          108.38481903076172,
          109.02167510986328,
          109.19824981689453,
          109.94347381591797,
          111.4977035522461,
          111.1610336303711,
          112.01856231689453,
          111.02204132080078,
          112.64424896240234,
          112.99311065673828,
          113.32501983642578,
          113.62113189697266,
          114.32743072509766,
          114.7195053100586,
          114.64948272705078,
          115.14092254638672,
          115.97840118408203,
          117.04595947265625,
          117.54627227783203,
          118.12779998779297,
          118.73204803466797,
          120.16585540771484,
          120.42134857177734,
          121.15653228759766,
          121.53787994384766,
          122.33675384521484,
          122.85405731201172,
          123.1849594116211,
          124.05802154541016,
          123.92345428466797,
          124.3705062866211,
          124.1031265258789,
          124.61656951904297,
          124.50137329101562,
          126.04666900634766,
          125.97623443603516,
          127.1736831665039,
          126.80510711669922,
          126.83136749267578,
          126.76166534423828,
          127.46910858154297,
          127.74352264404297,
          128.16098022460938,
          128.29739379882812,
          128.5280303955078,
          127.89118957519531,
          127.8815689086914,
          129.35997009277344,
          128.62083435058594,
          130.23785400390625,
          129.3275146484375,
          130.08546447753906,
          130.3610076904297,
          130.39083862304688,
          130.58236694335938,
          130.04959106445312,
          130.44082641601562,
          130.2015380859375,
          130.11920166015625,
          130.15904235839844,
          130.63345336914062,
          131.3759307861328,
          130.18270874023438,
          131.17074584960938,
          131.11380004882812,
          131.3881072998047,
          131.92080688476562,
          132.51898193359375,
          133.3467559814453,
          133.887451171875,
          133.19679260253906,
          133.876708984375,
          133.47010803222656,
          133.42359924316406,
          132.931884765625,
          133.5824432373047,
          131.8768310546875,
          131.107177734375,
          131.47137451171875,
          131.64378356933594,
          132.0374755859375,
          132.8736572265625,
          133.57211303710938,
          134.22897338867188,
          134.29664611816406,
          135.1361083984375,
          134.65829467773438,
          134.95785522460938,
          135.3852081298828,
          135.68321228027344,
          138.16848754882812
         ]
        }
       ],
       "layout": {
        "template": {
         "data": {
          "bar": [
           {
            "error_x": {
             "color": "#2a3f5f"
            },
            "error_y": {
             "color": "#2a3f5f"
            },
            "marker": {
             "line": {
              "color": "#E5ECF6",
              "width": 0.5
             },
             "pattern": {
              "fillmode": "overlay",
              "size": 10,
              "solidity": 0.2
             }
            },
            "type": "bar"
           }
          ],
          "barpolar": [
           {
            "marker": {
             "line": {
              "color": "#E5ECF6",
              "width": 0.5
             },
             "pattern": {
              "fillmode": "overlay",
              "size": 10,
              "solidity": 0.2
             }
            },
            "type": "barpolar"
           }
          ],
          "carpet": [
           {
            "aaxis": {
             "endlinecolor": "#2a3f5f",
             "gridcolor": "white",
             "linecolor": "white",
             "minorgridcolor": "white",
             "startlinecolor": "#2a3f5f"
            },
            "baxis": {
             "endlinecolor": "#2a3f5f",
             "gridcolor": "white",
             "linecolor": "white",
             "minorgridcolor": "white",
             "startlinecolor": "#2a3f5f"
            },
            "type": "carpet"
           }
          ],
          "choropleth": [
           {
            "colorbar": {
             "outlinewidth": 0,
             "ticks": ""
            },
            "type": "choropleth"
           }
          ],
          "contour": [
           {
            "colorbar": {
             "outlinewidth": 0,
             "ticks": ""
            },
            "colorscale": [
             [
              0,
              "#0d0887"
             ],
             [
              0.1111111111111111,
              "#46039f"
             ],
             [
              0.2222222222222222,
              "#7201a8"
             ],
             [
              0.3333333333333333,
              "#9c179e"
             ],
             [
              0.4444444444444444,
              "#bd3786"
             ],
             [
              0.5555555555555556,
              "#d8576b"
             ],
             [
              0.6666666666666666,
              "#ed7953"
             ],
             [
              0.7777777777777778,
              "#fb9f3a"
             ],
             [
              0.8888888888888888,
              "#fdca26"
             ],
             [
              1,
              "#f0f921"
             ]
            ],
            "type": "contour"
           }
          ],
          "contourcarpet": [
           {
            "colorbar": {
             "outlinewidth": 0,
             "ticks": ""
            },
            "type": "contourcarpet"
           }
          ],
          "heatmap": [
           {
            "colorbar": {
             "outlinewidth": 0,
             "ticks": ""
            },
            "colorscale": [
             [
              0,
              "#0d0887"
             ],
             [
              0.1111111111111111,
              "#46039f"
             ],
             [
              0.2222222222222222,
              "#7201a8"
             ],
             [
              0.3333333333333333,
              "#9c179e"
             ],
             [
              0.4444444444444444,
              "#bd3786"
             ],
             [
              0.5555555555555556,
              "#d8576b"
             ],
             [
              0.6666666666666666,
              "#ed7953"
             ],
             [
              0.7777777777777778,
              "#fb9f3a"
             ],
             [
              0.8888888888888888,
              "#fdca26"
             ],
             [
              1,
              "#f0f921"
             ]
            ],
            "type": "heatmap"
           }
          ],
          "heatmapgl": [
           {
            "colorbar": {
             "outlinewidth": 0,
             "ticks": ""
            },
            "colorscale": [
             [
              0,
              "#0d0887"
             ],
             [
              0.1111111111111111,
              "#46039f"
             ],
             [
              0.2222222222222222,
              "#7201a8"
             ],
             [
              0.3333333333333333,
              "#9c179e"
             ],
             [
              0.4444444444444444,
              "#bd3786"
             ],
             [
              0.5555555555555556,
              "#d8576b"
             ],
             [
              0.6666666666666666,
              "#ed7953"
             ],
             [
              0.7777777777777778,
              "#fb9f3a"
             ],
             [
              0.8888888888888888,
              "#fdca26"
             ],
             [
              1,
              "#f0f921"
             ]
            ],
            "type": "heatmapgl"
           }
          ],
          "histogram": [
           {
            "marker": {
             "pattern": {
              "fillmode": "overlay",
              "size": 10,
              "solidity": 0.2
             }
            },
            "type": "histogram"
           }
          ],
          "histogram2d": [
           {
            "colorbar": {
             "outlinewidth": 0,
             "ticks": ""
            },
            "colorscale": [
             [
              0,
              "#0d0887"
             ],
             [
              0.1111111111111111,
              "#46039f"
             ],
             [
              0.2222222222222222,
              "#7201a8"
             ],
             [
              0.3333333333333333,
              "#9c179e"
             ],
             [
              0.4444444444444444,
              "#bd3786"
             ],
             [
              0.5555555555555556,
              "#d8576b"
             ],
             [
              0.6666666666666666,
              "#ed7953"
             ],
             [
              0.7777777777777778,
              "#fb9f3a"
             ],
             [
              0.8888888888888888,
              "#fdca26"
             ],
             [
              1,
              "#f0f921"
             ]
            ],
            "type": "histogram2d"
           }
          ],
          "histogram2dcontour": [
           {
            "colorbar": {
             "outlinewidth": 0,
             "ticks": ""
            },
            "colorscale": [
             [
              0,
              "#0d0887"
             ],
             [
              0.1111111111111111,
              "#46039f"
             ],
             [
              0.2222222222222222,
              "#7201a8"
             ],
             [
              0.3333333333333333,
              "#9c179e"
             ],
             [
              0.4444444444444444,
              "#bd3786"
             ],
             [
              0.5555555555555556,
              "#d8576b"
             ],
             [
              0.6666666666666666,
              "#ed7953"
             ],
             [
              0.7777777777777778,
              "#fb9f3a"
             ],
             [
              0.8888888888888888,
              "#fdca26"
             ],
             [
              1,
              "#f0f921"
             ]
            ],
            "type": "histogram2dcontour"
           }
          ],
          "mesh3d": [
           {
            "colorbar": {
             "outlinewidth": 0,
             "ticks": ""
            },
            "type": "mesh3d"
           }
          ],
          "parcoords": [
           {
            "line": {
             "colorbar": {
              "outlinewidth": 0,
              "ticks": ""
             }
            },
            "type": "parcoords"
           }
          ],
          "pie": [
           {
            "automargin": true,
            "type": "pie"
           }
          ],
          "scatter": [
           {
            "fillpattern": {
             "fillmode": "overlay",
             "size": 10,
             "solidity": 0.2
            },
            "type": "scatter"
           }
          ],
          "scatter3d": [
           {
            "line": {
             "colorbar": {
              "outlinewidth": 0,
              "ticks": ""
             }
            },
            "marker": {
             "colorbar": {
              "outlinewidth": 0,
              "ticks": ""
             }
            },
            "type": "scatter3d"
           }
          ],
          "scattercarpet": [
           {
            "marker": {
             "colorbar": {
              "outlinewidth": 0,
              "ticks": ""
             }
            },
            "type": "scattercarpet"
           }
          ],
          "scattergeo": [
           {
            "marker": {
             "colorbar": {
              "outlinewidth": 0,
              "ticks": ""
             }
            },
            "type": "scattergeo"
           }
          ],
          "scattergl": [
           {
            "marker": {
             "colorbar": {
              "outlinewidth": 0,
              "ticks": ""
             }
            },
            "type": "scattergl"
           }
          ],
          "scattermapbox": [
           {
            "marker": {
             "colorbar": {
              "outlinewidth": 0,
              "ticks": ""
             }
            },
            "type": "scattermapbox"
           }
          ],
          "scatterpolar": [
           {
            "marker": {
             "colorbar": {
              "outlinewidth": 0,
              "ticks": ""
             }
            },
            "type": "scatterpolar"
           }
          ],
          "scatterpolargl": [
           {
            "marker": {
             "colorbar": {
              "outlinewidth": 0,
              "ticks": ""
             }
            },
            "type": "scatterpolargl"
           }
          ],
          "scatterternary": [
           {
            "marker": {
             "colorbar": {
              "outlinewidth": 0,
              "ticks": ""
             }
            },
            "type": "scatterternary"
           }
          ],
          "surface": [
           {
            "colorbar": {
             "outlinewidth": 0,
             "ticks": ""
            },
            "colorscale": [
             [
              0,
              "#0d0887"
             ],
             [
              0.1111111111111111,
              "#46039f"
             ],
             [
              0.2222222222222222,
              "#7201a8"
             ],
             [
              0.3333333333333333,
              "#9c179e"
             ],
             [
              0.4444444444444444,
              "#bd3786"
             ],
             [
              0.5555555555555556,
              "#d8576b"
             ],
             [
              0.6666666666666666,
              "#ed7953"
             ],
             [
              0.7777777777777778,
              "#fb9f3a"
             ],
             [
              0.8888888888888888,
              "#fdca26"
             ],
             [
              1,
              "#f0f921"
             ]
            ],
            "type": "surface"
           }
          ],
          "table": [
           {
            "cells": {
             "fill": {
              "color": "#EBF0F8"
             },
             "line": {
              "color": "white"
             }
            },
            "header": {
             "fill": {
              "color": "#C8D4E3"
             },
             "line": {
              "color": "white"
             }
            },
            "type": "table"
           }
          ]
         },
         "layout": {
          "annotationdefaults": {
           "arrowcolor": "#2a3f5f",
           "arrowhead": 0,
           "arrowwidth": 1
          },
          "autotypenumbers": "strict",
          "coloraxis": {
           "colorbar": {
            "outlinewidth": 0,
            "ticks": ""
           }
          },
          "colorscale": {
           "diverging": [
            [
             0,
             "#8e0152"
            ],
            [
             0.1,
             "#c51b7d"
            ],
            [
             0.2,
             "#de77ae"
            ],
            [
             0.3,
             "#f1b6da"
            ],
            [
             0.4,
             "#fde0ef"
            ],
            [
             0.5,
             "#f7f7f7"
            ],
            [
             0.6,
             "#e6f5d0"
            ],
            [
             0.7,
             "#b8e186"
            ],
            [
             0.8,
             "#7fbc41"
            ],
            [
             0.9,
             "#4d9221"
            ],
            [
             1,
             "#276419"
            ]
           ],
           "sequential": [
            [
             0,
             "#0d0887"
            ],
            [
             0.1111111111111111,
             "#46039f"
            ],
            [
             0.2222222222222222,
             "#7201a8"
            ],
            [
             0.3333333333333333,
             "#9c179e"
            ],
            [
             0.4444444444444444,
             "#bd3786"
            ],
            [
             0.5555555555555556,
             "#d8576b"
            ],
            [
             0.6666666666666666,
             "#ed7953"
            ],
            [
             0.7777777777777778,
             "#fb9f3a"
            ],
            [
             0.8888888888888888,
             "#fdca26"
            ],
            [
             1,
             "#f0f921"
            ]
           ],
           "sequentialminus": [
            [
             0,
             "#0d0887"
            ],
            [
             0.1111111111111111,
             "#46039f"
            ],
            [
             0.2222222222222222,
             "#7201a8"
            ],
            [
             0.3333333333333333,
             "#9c179e"
            ],
            [
             0.4444444444444444,
             "#bd3786"
            ],
            [
             0.5555555555555556,
             "#d8576b"
            ],
            [
             0.6666666666666666,
             "#ed7953"
            ],
            [
             0.7777777777777778,
             "#fb9f3a"
            ],
            [
             0.8888888888888888,
             "#fdca26"
            ],
            [
             1,
             "#f0f921"
            ]
           ]
          },
          "colorway": [
           "#636efa",
           "#EF553B",
           "#00cc96",
           "#ab63fa",
           "#FFA15A",
           "#19d3f3",
           "#FF6692",
           "#B6E880",
           "#FF97FF",
           "#FECB52"
          ],
          "font": {
           "color": "#2a3f5f"
          },
          "geo": {
           "bgcolor": "white",
           "lakecolor": "white",
           "landcolor": "#E5ECF6",
           "showlakes": true,
           "showland": true,
           "subunitcolor": "white"
          },
          "hoverlabel": {
           "align": "left"
          },
          "hovermode": "closest",
          "mapbox": {
           "style": "light"
          },
          "paper_bgcolor": "white",
          "plot_bgcolor": "#E5ECF6",
          "polar": {
           "angularaxis": {
            "gridcolor": "white",
            "linecolor": "white",
            "ticks": ""
           },
           "bgcolor": "#E5ECF6",
           "radialaxis": {
            "gridcolor": "white",
            "linecolor": "white",
            "ticks": ""
           }
          },
          "scene": {
           "xaxis": {
            "backgroundcolor": "#E5ECF6",
            "gridcolor": "white",
            "gridwidth": 2,
            "linecolor": "white",
            "showbackground": true,
            "ticks": "",
            "zerolinecolor": "white"
           },
           "yaxis": {
            "backgroundcolor": "#E5ECF6",
            "gridcolor": "white",
            "gridwidth": 2,
            "linecolor": "white",
            "showbackground": true,
            "ticks": "",
            "zerolinecolor": "white"
           },
           "zaxis": {
            "backgroundcolor": "#E5ECF6",
            "gridcolor": "white",
            "gridwidth": 2,
            "linecolor": "white",
            "showbackground": true,
            "ticks": "",
            "zerolinecolor": "white"
           }
          },
          "shapedefaults": {
           "line": {
            "color": "#2a3f5f"
           }
          },
          "ternary": {
           "aaxis": {
            "gridcolor": "white",
            "linecolor": "white",
            "ticks": ""
           },
           "baxis": {
            "gridcolor": "white",
            "linecolor": "white",
            "ticks": ""
           },
           "bgcolor": "#E5ECF6",
           "caxis": {
            "gridcolor": "white",
            "linecolor": "white",
            "ticks": ""
           }
          },
          "title": {
           "x": 0.05
          },
          "xaxis": {
           "automargin": true,
           "gridcolor": "white",
           "linecolor": "white",
           "ticks": "",
           "title": {
            "standoff": 15
           },
           "zerolinecolor": "white",
           "zerolinewidth": 2
          },
          "yaxis": {
           "automargin": true,
           "gridcolor": "white",
           "linecolor": "white",
           "ticks": "",
           "title": {
            "standoff": 15
           },
           "zerolinecolor": "white",
           "zerolinewidth": 2
          }
         }
        }
       }
      },
      "text/html": [
       "<div>                            <div id=\"83bc36ba-783d-4536-a590-4e7007e662eb\" class=\"plotly-graph-div\" style=\"height:525px; width:100%;\"></div>            <script type=\"text/javascript\">                require([\"plotly\"], function(Plotly) {                    window.PLOTLYENV=window.PLOTLYENV || {};                                    if (document.getElementById(\"83bc36ba-783d-4536-a590-4e7007e662eb\")) {                    Plotly.newPlot(                        \"83bc36ba-783d-4536-a590-4e7007e662eb\",                        [{\"mode\":\"lines\",\"name\":\"Actual\",\"x\":[0,1,2,3,4,5,6,7,8,9,10,11,12,13,14,15,16,17,18,19,20,21,22,23,24,25,26,27,28,29,30,31,32,33,34,35,36,37,38,39,40,41,42,43,44,45,46,47,48,49,50,51,52,53,54,55,56,57,58,59,60,61,62,63,64,65,66,67,68,69,70,71,72,73,74,75,76,77,78,79,80,81,82,83,84,85,86,87,88,89,90,91,92,93,94,95,96,97,98,99,100,101,102,103,104,105,106,107,108,109,110,111,112,113,114,115,116,117,118,119,120,121,122,123,124,125,126,127,128,129,130,131,132,133,134,135,136,137,138,139,140,141,142,143,144,145,146,147,148,149,150,151,152,153,154,155,156,157,158,159,160,161,162,163,164,165,166,167,168,169,170,171,172,173,174,175,176,177,178,179,180,181,182,183,184,185,186,187,188,189,190,191,192,193,194,195,196,197],\"y\":[112.91000366210938,103.38999938964844,102.18000030517578,102.18000030517578,102.18000030517578,102.11000061035156,100.05000305175781,98.23999786376953,97.61000061035156,99.54000091552734,99.54000091552734,99.54000091552734,99.69999694824219,101.16000366210938,98.1500015258789,97.19999694824219,94.58000183105469,94.58000183105469,94.58000183105469,94.58000183105469,95.79000091552734,95.81999969482422,93.5,93.76000213623047,93.76000213623047,93.76000213623047,94.2300033569336,92.16999816894531,92.12999725341797,94.9000015258789,93.75,93.75,93.75,93.55000305175781,93.91999816894531,92.25,90.7300033569336,92.43000030517578,92.43000030517578,92.43000030517578,94.87999725341797,96.19999694824219,100.04000091552734,98.94999694824219,97.70999908447266,97.70999908447266,97.70999908447266,100.61000061035156,98.69999694824219,98.70999908447266,98.12999725341797,98.04000091552734,98.04000091552734,98.04000091552734,97.23999786376953,100.25,102.0,103.29000091552734,102.41000366210938,102.41000366210938,102.41000366210938,103.94999694824219,101.0999984741211,102.05999755859375,102.16999816894531,102.16999816894531,102.16999816894531,102.16999816894531,99.91999816894531,97.83000183105469,102.4000015258789,102.51000213623047,102.73999786376953,102.73999786376953,102.73999786376953,102.30000305175781,104.30000305175781,103.80999755859375,106.95999908447266,106.20999908447266,106.20999908447266,106.20999908447266,102.56999969482422,104.9800033569336,109.81999969482422,105.44999694824219,102.05000305175781,102.05000305175781,102.05000305175781,103.62999725341797,103.6500015258789,104.0,105.66000366210938,105.83000183105469,105.83000183105469,105.83000183105469,106.62000274658203,110.19000244140625,112.18000030517578,110.26000213623047,111.19999694824219,111.19999694824219,111.19999694824219,113.4000015258789,115.5,118.1500015258789,116.25,115.01000213623047,115.01000213623047,115.01000213623047,114.98999786376953,116.75,115.0,120.11000061035156,121.66000366210938,121.66000366210938,121.66000366210938,121.66000366210938,120.58000183105469,122.7699966430664,124.25,125.30000305175781,125.30000305175781,125.30000305175781,126.61000061035156,121.2300033569336,124.25,123.43000030517578,126.56999969482422,126.56999969482422,126.56999969482422,126.66000366210938,126.41999816894531,127.11000061035156,125.48999786376953,125.77999877929688,125.77999877929688,125.77999877929688,125.77999877929688,124.83000183105469,130.14999389648438,129.3300018310547,127.33000183105469,127.33000183105469,127.33000183105469,129.17999267578125,129.0399932861328,127.9000015258789,130.36000061035156,130.22000122070312,130.22000122070312,130.22000122070312,130.3800048828125,130.3800048828125,128.36000061035156,129.77999877929688,127.12999725341797,127.12999725341797,127.12999725341797,128.77999877929688,130.8000030517578,134.3000030517578,134.67999267578125,133.55999755859375,133.55999755859375,133.55999755859375,132.8300018310547,135.36000061035156,129.9600067138672,130.0,128.8000030517578,128.8000030517578,128.8000030517578,129.1300048828125,128.14999389648438,128.25,132.2100067138672,133.67999267578125,133.67999267578125,133.67999267578125,131.69000244140625,128.2100067138672,128.91000366210938,139.57000732421875,142.22000122070312,142.22000122070312,142.22000122070312,139.94000244140625,137.85000610351562,138.55999755859375,138.41000366210938,140.57000732421875,140.57000732421875,140.57000732421875,137.6699981689453,135.07000732421875,133.97999572753906,133.22000122070312],\"type\":\"scatter\"},{\"mode\":\"lines\",\"name\":\"Predicted\",\"x\":[0,1,2,3,4,5,6,7,8,9,10,11,12,13,14,15,16,17,18,19,20,21,22,23,24,25,26,27,28,29,30,31,32,33,34,35,36,37,38,39,40,41,42,43,44,45,46,47,48,49,50,51,52,53,54,55,56,57,58,59,60,61,62,63,64,65,66,67,68,69,70,71,72,73,74,75,76,77,78,79,80,81,82,83,84,85,86,87,88,89,90,91,92,93,94,95,96,97,98,99,100,101,102,103,104,105,106,107,108,109,110,111,112,113,114,115,116,117,118,119,120,121,122,123,124,125,126,127,128,129,130,131,132,133,134,135,136,137,138,139,140,141,142,143,144,145,146,147,148,149,150,151,152,153,154,155,156,157,158,159,160,161,162,163,164,165,166,167,168,169,170,171,172,173,174,175,176,177,178,179,180,181,182,183,184,185,186,187,188,189,190,191,192,193,194,195,196,197],\"y\":[95.35160064697266,95.78870391845703,96.73169708251953,96.59834289550781,96.45539093017578,98.2383804321289,100.19347381591797,101.18115234375,100.13362884521484,100.99748992919922,102.46887969970703,104.18915557861328,103.3214340209961,105.75518798828125,104.0880126953125,104.4074935913086,103.3885726928711,103.7900161743164,102.43024444580078,103.7037124633789,103.56832885742188,104.0368881225586,103.2697525024414,103.26677703857422,102.68893432617188,104.1630630493164,104.59581756591797,104.5114517211914,103.95809173583984,102.57914733886719,101.1369400024414,102.04037475585938,100.93048858642578,100.79823303222656,100.44912719726562,100.03636932373047,99.69427490234375,99.22451782226562,99.0932846069336,99.6514663696289,99.65797424316406,99.02410125732422,98.41898345947266,97.79082489013672,97.80574798583984,97.47783660888672,97.02062225341797,97.00798797607422,96.91594696044922,96.48271942138672,96.59391021728516,95.98807525634766,97.0992431640625,97.59000396728516,97.57904815673828,98.6354751586914,98.77272033691406,99.13763427734375,99.09844207763672,98.55326080322266,98.642333984375,99.64472198486328,99.22594451904297,99.21247100830078,99.56172943115234,99.8004379272461,100.52568817138672,100.6145248413086,101.23294830322266,102.38842010498047,102.33155059814453,102.6286392211914,102.20909118652344,103.17173767089844,104.07564544677734,103.80587768554688,103.91691589355469,103.33155059814453,104.0146713256836,103.72915649414062,103.78519439697266,103.55365753173828,103.82140350341797,104.19563293457031,104.6366195678711,105.3060073852539,104.53755950927734,105.99434661865234,105.8982162475586,106.22898864746094,106.03327178955078,107.32028198242188,107.18907928466797,107.30923461914062,107.05750274658203,106.62482452392578,106.24901580810547,107.3057632446289,107.04326629638672,108.02043914794922,106.52259063720703,105.3502426147461,106.56352996826172,106.85220336914062,107.47684478759766,108.17430114746094,108.56251525878906,108.38481903076172,109.02167510986328,109.19824981689453,109.94347381591797,111.4977035522461,111.1610336303711,112.01856231689453,111.02204132080078,112.64424896240234,112.99311065673828,113.32501983642578,113.62113189697266,114.32743072509766,114.7195053100586,114.64948272705078,115.14092254638672,115.97840118408203,117.04595947265625,117.54627227783203,118.12779998779297,118.73204803466797,120.16585540771484,120.42134857177734,121.15653228759766,121.53787994384766,122.33675384521484,122.85405731201172,123.1849594116211,124.05802154541016,123.92345428466797,124.3705062866211,124.1031265258789,124.61656951904297,124.50137329101562,126.04666900634766,125.97623443603516,127.1736831665039,126.80510711669922,126.83136749267578,126.76166534423828,127.46910858154297,127.74352264404297,128.16098022460938,128.29739379882812,128.5280303955078,127.89118957519531,127.8815689086914,129.35997009277344,128.62083435058594,130.23785400390625,129.3275146484375,130.08546447753906,130.3610076904297,130.39083862304688,130.58236694335938,130.04959106445312,130.44082641601562,130.2015380859375,130.11920166015625,130.15904235839844,130.63345336914062,131.3759307861328,130.18270874023438,131.17074584960938,131.11380004882812,131.3881072998047,131.92080688476562,132.51898193359375,133.3467559814453,133.887451171875,133.19679260253906,133.876708984375,133.47010803222656,133.42359924316406,132.931884765625,133.5824432373047,131.8768310546875,131.107177734375,131.47137451171875,131.64378356933594,132.0374755859375,132.8736572265625,133.57211303710938,134.22897338867188,134.29664611816406,135.1361083984375,134.65829467773438,134.95785522460938,135.3852081298828,135.68321228027344,138.16848754882812],\"type\":\"scatter\"}],                        {\"template\":{\"data\":{\"histogram2dcontour\":[{\"type\":\"histogram2dcontour\",\"colorbar\":{\"outlinewidth\":0,\"ticks\":\"\"},\"colorscale\":[[0.0,\"#0d0887\"],[0.1111111111111111,\"#46039f\"],[0.2222222222222222,\"#7201a8\"],[0.3333333333333333,\"#9c179e\"],[0.4444444444444444,\"#bd3786\"],[0.5555555555555556,\"#d8576b\"],[0.6666666666666666,\"#ed7953\"],[0.7777777777777778,\"#fb9f3a\"],[0.8888888888888888,\"#fdca26\"],[1.0,\"#f0f921\"]]}],\"choropleth\":[{\"type\":\"choropleth\",\"colorbar\":{\"outlinewidth\":0,\"ticks\":\"\"}}],\"histogram2d\":[{\"type\":\"histogram2d\",\"colorbar\":{\"outlinewidth\":0,\"ticks\":\"\"},\"colorscale\":[[0.0,\"#0d0887\"],[0.1111111111111111,\"#46039f\"],[0.2222222222222222,\"#7201a8\"],[0.3333333333333333,\"#9c179e\"],[0.4444444444444444,\"#bd3786\"],[0.5555555555555556,\"#d8576b\"],[0.6666666666666666,\"#ed7953\"],[0.7777777777777778,\"#fb9f3a\"],[0.8888888888888888,\"#fdca26\"],[1.0,\"#f0f921\"]]}],\"heatmap\":[{\"type\":\"heatmap\",\"colorbar\":{\"outlinewidth\":0,\"ticks\":\"\"},\"colorscale\":[[0.0,\"#0d0887\"],[0.1111111111111111,\"#46039f\"],[0.2222222222222222,\"#7201a8\"],[0.3333333333333333,\"#9c179e\"],[0.4444444444444444,\"#bd3786\"],[0.5555555555555556,\"#d8576b\"],[0.6666666666666666,\"#ed7953\"],[0.7777777777777778,\"#fb9f3a\"],[0.8888888888888888,\"#fdca26\"],[1.0,\"#f0f921\"]]}],\"heatmapgl\":[{\"type\":\"heatmapgl\",\"colorbar\":{\"outlinewidth\":0,\"ticks\":\"\"},\"colorscale\":[[0.0,\"#0d0887\"],[0.1111111111111111,\"#46039f\"],[0.2222222222222222,\"#7201a8\"],[0.3333333333333333,\"#9c179e\"],[0.4444444444444444,\"#bd3786\"],[0.5555555555555556,\"#d8576b\"],[0.6666666666666666,\"#ed7953\"],[0.7777777777777778,\"#fb9f3a\"],[0.8888888888888888,\"#fdca26\"],[1.0,\"#f0f921\"]]}],\"contourcarpet\":[{\"type\":\"contourcarpet\",\"colorbar\":{\"outlinewidth\":0,\"ticks\":\"\"}}],\"contour\":[{\"type\":\"contour\",\"colorbar\":{\"outlinewidth\":0,\"ticks\":\"\"},\"colorscale\":[[0.0,\"#0d0887\"],[0.1111111111111111,\"#46039f\"],[0.2222222222222222,\"#7201a8\"],[0.3333333333333333,\"#9c179e\"],[0.4444444444444444,\"#bd3786\"],[0.5555555555555556,\"#d8576b\"],[0.6666666666666666,\"#ed7953\"],[0.7777777777777778,\"#fb9f3a\"],[0.8888888888888888,\"#fdca26\"],[1.0,\"#f0f921\"]]}],\"surface\":[{\"type\":\"surface\",\"colorbar\":{\"outlinewidth\":0,\"ticks\":\"\"},\"colorscale\":[[0.0,\"#0d0887\"],[0.1111111111111111,\"#46039f\"],[0.2222222222222222,\"#7201a8\"],[0.3333333333333333,\"#9c179e\"],[0.4444444444444444,\"#bd3786\"],[0.5555555555555556,\"#d8576b\"],[0.6666666666666666,\"#ed7953\"],[0.7777777777777778,\"#fb9f3a\"],[0.8888888888888888,\"#fdca26\"],[1.0,\"#f0f921\"]]}],\"mesh3d\":[{\"type\":\"mesh3d\",\"colorbar\":{\"outlinewidth\":0,\"ticks\":\"\"}}],\"scatter\":[{\"fillpattern\":{\"fillmode\":\"overlay\",\"size\":10,\"solidity\":0.2},\"type\":\"scatter\"}],\"parcoords\":[{\"type\":\"parcoords\",\"line\":{\"colorbar\":{\"outlinewidth\":0,\"ticks\":\"\"}}}],\"scatterpolargl\":[{\"type\":\"scatterpolargl\",\"marker\":{\"colorbar\":{\"outlinewidth\":0,\"ticks\":\"\"}}}],\"bar\":[{\"error_x\":{\"color\":\"#2a3f5f\"},\"error_y\":{\"color\":\"#2a3f5f\"},\"marker\":{\"line\":{\"color\":\"#E5ECF6\",\"width\":0.5},\"pattern\":{\"fillmode\":\"overlay\",\"size\":10,\"solidity\":0.2}},\"type\":\"bar\"}],\"scattergeo\":[{\"type\":\"scattergeo\",\"marker\":{\"colorbar\":{\"outlinewidth\":0,\"ticks\":\"\"}}}],\"scatterpolar\":[{\"type\":\"scatterpolar\",\"marker\":{\"colorbar\":{\"outlinewidth\":0,\"ticks\":\"\"}}}],\"histogram\":[{\"marker\":{\"pattern\":{\"fillmode\":\"overlay\",\"size\":10,\"solidity\":0.2}},\"type\":\"histogram\"}],\"scattergl\":[{\"type\":\"scattergl\",\"marker\":{\"colorbar\":{\"outlinewidth\":0,\"ticks\":\"\"}}}],\"scatter3d\":[{\"type\":\"scatter3d\",\"line\":{\"colorbar\":{\"outlinewidth\":0,\"ticks\":\"\"}},\"marker\":{\"colorbar\":{\"outlinewidth\":0,\"ticks\":\"\"}}}],\"scattermapbox\":[{\"type\":\"scattermapbox\",\"marker\":{\"colorbar\":{\"outlinewidth\":0,\"ticks\":\"\"}}}],\"scatterternary\":[{\"type\":\"scatterternary\",\"marker\":{\"colorbar\":{\"outlinewidth\":0,\"ticks\":\"\"}}}],\"scattercarpet\":[{\"type\":\"scattercarpet\",\"marker\":{\"colorbar\":{\"outlinewidth\":0,\"ticks\":\"\"}}}],\"carpet\":[{\"aaxis\":{\"endlinecolor\":\"#2a3f5f\",\"gridcolor\":\"white\",\"linecolor\":\"white\",\"minorgridcolor\":\"white\",\"startlinecolor\":\"#2a3f5f\"},\"baxis\":{\"endlinecolor\":\"#2a3f5f\",\"gridcolor\":\"white\",\"linecolor\":\"white\",\"minorgridcolor\":\"white\",\"startlinecolor\":\"#2a3f5f\"},\"type\":\"carpet\"}],\"table\":[{\"cells\":{\"fill\":{\"color\":\"#EBF0F8\"},\"line\":{\"color\":\"white\"}},\"header\":{\"fill\":{\"color\":\"#C8D4E3\"},\"line\":{\"color\":\"white\"}},\"type\":\"table\"}],\"barpolar\":[{\"marker\":{\"line\":{\"color\":\"#E5ECF6\",\"width\":0.5},\"pattern\":{\"fillmode\":\"overlay\",\"size\":10,\"solidity\":0.2}},\"type\":\"barpolar\"}],\"pie\":[{\"automargin\":true,\"type\":\"pie\"}]},\"layout\":{\"autotypenumbers\":\"strict\",\"colorway\":[\"#636efa\",\"#EF553B\",\"#00cc96\",\"#ab63fa\",\"#FFA15A\",\"#19d3f3\",\"#FF6692\",\"#B6E880\",\"#FF97FF\",\"#FECB52\"],\"font\":{\"color\":\"#2a3f5f\"},\"hovermode\":\"closest\",\"hoverlabel\":{\"align\":\"left\"},\"paper_bgcolor\":\"white\",\"plot_bgcolor\":\"#E5ECF6\",\"polar\":{\"bgcolor\":\"#E5ECF6\",\"angularaxis\":{\"gridcolor\":\"white\",\"linecolor\":\"white\",\"ticks\":\"\"},\"radialaxis\":{\"gridcolor\":\"white\",\"linecolor\":\"white\",\"ticks\":\"\"}},\"ternary\":{\"bgcolor\":\"#E5ECF6\",\"aaxis\":{\"gridcolor\":\"white\",\"linecolor\":\"white\",\"ticks\":\"\"},\"baxis\":{\"gridcolor\":\"white\",\"linecolor\":\"white\",\"ticks\":\"\"},\"caxis\":{\"gridcolor\":\"white\",\"linecolor\":\"white\",\"ticks\":\"\"}},\"coloraxis\":{\"colorbar\":{\"outlinewidth\":0,\"ticks\":\"\"}},\"colorscale\":{\"sequential\":[[0.0,\"#0d0887\"],[0.1111111111111111,\"#46039f\"],[0.2222222222222222,\"#7201a8\"],[0.3333333333333333,\"#9c179e\"],[0.4444444444444444,\"#bd3786\"],[0.5555555555555556,\"#d8576b\"],[0.6666666666666666,\"#ed7953\"],[0.7777777777777778,\"#fb9f3a\"],[0.8888888888888888,\"#fdca26\"],[1.0,\"#f0f921\"]],\"sequentialminus\":[[0.0,\"#0d0887\"],[0.1111111111111111,\"#46039f\"],[0.2222222222222222,\"#7201a8\"],[0.3333333333333333,\"#9c179e\"],[0.4444444444444444,\"#bd3786\"],[0.5555555555555556,\"#d8576b\"],[0.6666666666666666,\"#ed7953\"],[0.7777777777777778,\"#fb9f3a\"],[0.8888888888888888,\"#fdca26\"],[1.0,\"#f0f921\"]],\"diverging\":[[0,\"#8e0152\"],[0.1,\"#c51b7d\"],[0.2,\"#de77ae\"],[0.3,\"#f1b6da\"],[0.4,\"#fde0ef\"],[0.5,\"#f7f7f7\"],[0.6,\"#e6f5d0\"],[0.7,\"#b8e186\"],[0.8,\"#7fbc41\"],[0.9,\"#4d9221\"],[1,\"#276419\"]]},\"xaxis\":{\"gridcolor\":\"white\",\"linecolor\":\"white\",\"ticks\":\"\",\"title\":{\"standoff\":15},\"zerolinecolor\":\"white\",\"automargin\":true,\"zerolinewidth\":2},\"yaxis\":{\"gridcolor\":\"white\",\"linecolor\":\"white\",\"ticks\":\"\",\"title\":{\"standoff\":15},\"zerolinecolor\":\"white\",\"automargin\":true,\"zerolinewidth\":2},\"scene\":{\"xaxis\":{\"backgroundcolor\":\"#E5ECF6\",\"gridcolor\":\"white\",\"linecolor\":\"white\",\"showbackground\":true,\"ticks\":\"\",\"zerolinecolor\":\"white\",\"gridwidth\":2},\"yaxis\":{\"backgroundcolor\":\"#E5ECF6\",\"gridcolor\":\"white\",\"linecolor\":\"white\",\"showbackground\":true,\"ticks\":\"\",\"zerolinecolor\":\"white\",\"gridwidth\":2},\"zaxis\":{\"backgroundcolor\":\"#E5ECF6\",\"gridcolor\":\"white\",\"linecolor\":\"white\",\"showbackground\":true,\"ticks\":\"\",\"zerolinecolor\":\"white\",\"gridwidth\":2}},\"shapedefaults\":{\"line\":{\"color\":\"#2a3f5f\"}},\"annotationdefaults\":{\"arrowcolor\":\"#2a3f5f\",\"arrowhead\":0,\"arrowwidth\":1},\"geo\":{\"bgcolor\":\"white\",\"landcolor\":\"#E5ECF6\",\"subunitcolor\":\"white\",\"showland\":true,\"showlakes\":true,\"lakecolor\":\"white\"},\"title\":{\"x\":0.05},\"mapbox\":{\"style\":\"light\"}}}},                        {\"responsive\": true}                    ).then(function(){\n",
       "                            \n",
       "var gd = document.getElementById('83bc36ba-783d-4536-a590-4e7007e662eb');\n",
       "var x = new MutationObserver(function (mutations, observer) {{\n",
       "        var display = window.getComputedStyle(gd).display;\n",
       "        if (!display || display === 'none') {{\n",
       "            console.log([gd, 'removed!']);\n",
       "            Plotly.purge(gd);\n",
       "            observer.disconnect();\n",
       "        }}\n",
       "}});\n",
       "\n",
       "// Listen for the removal of the full notebook cells\n",
       "var notebookContainer = gd.closest('#notebook-container');\n",
       "if (notebookContainer) {{\n",
       "    x.observe(notebookContainer, {childList: true});\n",
       "}}\n",
       "\n",
       "// Listen for the clearing of the current output cell\n",
       "var outputEl = gd.closest('.output');\n",
       "if (outputEl) {{\n",
       "    x.observe(outputEl, {childList: true});\n",
       "}}\n",
       "\n",
       "                        })                };                });            </script>        </div>"
      ]
     },
     "metadata": {},
     "output_type": "display_data"
    }
   ],
   "source": [
    "# Check the trend in Volume Traded\n",
    "import plotly.graph_objects as go\n",
    "fig = go.Figure()\n",
    "\n",
    "fig.add_trace(go.Scatter(x = test_df.index , y = Actual , mode = 'lines' , name='Actual'))\n",
    "fig.add_trace(go.Scatter(x = test_df.index , y = Predictions , mode = 'lines' , name='Predicted'))\n",
    "fig.show()\n"
   ]
  },
  {
   "cell_type": "code",
   "execution_count": 168,
   "id": "10bc8c97",
   "metadata": {},
   "outputs": [
    {
     "name": "stdout",
     "output_type": "stream",
     "text": [
      "4.283323808149858\n",
      "28.50661951093993\n"
     ]
    }
   ],
   "source": [
    "from sklearn.metrics import mean_absolute_error\n",
    "# Evaluating the model using MAE Evaluation Metric\n",
    "print(mean_absolute_error(Actual, Predictions))\n",
    "from sklearn.metrics import mean_squared_error\n",
    "print(mean_squared_error(Actual, Predictions))\n",
    "##R² score also known as the coefficient of determination gives the measure of how good a model fits to a given dataset. \n",
    "##It indicates how closer are the predicted values to the actual values."
   ]
  },
  {
   "cell_type": "code",
   "execution_count": 169,
   "id": "4f6115f3",
   "metadata": {},
   "outputs": [
    {
     "name": "stdout",
     "output_type": "stream",
     "text": [
      "0.8765015187350649\n"
     ]
    }
   ],
   "source": [
    "from sklearn.metrics import r2_score\n",
    "print(r2_score(Actual, Predictions))"
   ]
  },
  {
   "cell_type": "code",
   "execution_count": null,
   "id": "a36884ba",
   "metadata": {},
   "outputs": [],
   "source": []
  }
 ],
 "metadata": {
  "kernelspec": {
   "display_name": "Python 3 (ipykernel)",
   "language": "python",
   "name": "python3"
  },
  "language_info": {
   "codemirror_mode": {
    "name": "ipython",
    "version": 3
   },
   "file_extension": ".py",
   "mimetype": "text/x-python",
   "name": "python",
   "nbconvert_exporter": "python",
   "pygments_lexer": "ipython3",
   "version": "3.11.4"
  }
 },
 "nbformat": 4,
 "nbformat_minor": 5
}
